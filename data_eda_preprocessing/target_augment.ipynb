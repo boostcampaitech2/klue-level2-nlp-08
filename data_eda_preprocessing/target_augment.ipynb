{
 "cells": [
  {
   "cell_type": "code",
   "execution_count": 1,
   "id": "5d0adda9-4161-4cd6-90dc-587d85d08fcb",
   "metadata": {},
   "outputs": [],
   "source": [
    "import pandas as pd"
   ]
  },
  {
   "cell_type": "code",
   "execution_count": 2,
   "id": "f8d51577-077b-489a-a89e-bed095c235d4",
   "metadata": {},
   "outputs": [],
   "source": [
    "prinstine = pd.read_csv('prinstine_data.csv', index_col = 'id')"
   ]
  },
  {
   "cell_type": "markdown",
   "id": "93e1d52b-5242-445c-9a05-baf6f6d66f26",
   "metadata": {},
   "source": [
    "# Augment by sub <-> obj with at least one wrong answer"
   ]
  },
  {
   "cell_type": "code",
   "execution_count": 3,
   "id": "0282480c-8417-44f9-9d52-10a081f730b0",
   "metadata": {},
   "outputs": [],
   "source": [
    "se = prinstine.apply(lambda x : x['object_entity'] if (x['counter'] != 0 and (x['label'] == 'no_relation' or x['label'] == 'org:alternate_names' or x['label'] == 'per:alternate_names' or x['label'] == 'per:colleagues' or x['label'] == 'per:siblings' or x['label'] == 'per:spouse' or x['label'] == 'per:other_family')) else 0, axis = 1)\n",
    "oe = prinstine.apply(lambda x : x['subject_entity'] if (x['counter'] != 0 and (x['label'] == 'no_relation' or x['label'] == 'org:alternate_names' or x['label'] == 'per:alternate_names' or x['label'] == 'per:colleagues' or x['label'] == 'per:siblings' or x['label'] == 'per:spouse' or x['label'] == 'per:other_family')) else 0, axis = 1)"
   ]
  },
  {
   "cell_type": "code",
   "execution_count": 4,
   "id": "72068ac1-1597-4814-9cb4-9757b882d8db",
   "metadata": {},
   "outputs": [
    {
     "name": "stdout",
     "output_type": "stream",
     "text": [
      "4136\n"
     ]
    }
   ],
   "source": [
    "sub_to_obj = prinstine.copy()\n",
    "sub_to_obj['subject_entity'] = se\n",
    "sub_to_obj['object_entity'] = oe\n",
    "sub_to_obj = sub_to_obj[sub_to_obj['subject_entity'] != 0]\n",
    "print(len(sub_to_obj))"
   ]
  },
  {
   "cell_type": "markdown",
   "id": "478281d6-2569-4b65-816a-63628ca83dc4",
   "metadata": {},
   "source": [
    "# Augment sub <_> obj with at least one wrong answer with label change"
   ]
  },
  {
   "cell_type": "markdown",
   "id": "93fa07a2-e16f-4897-b6d6-274dbfb9ab6c",
   "metadata": {},
   "source": [
    "### org:members < = > org:menbers_of"
   ]
  },
  {
   "cell_type": "code",
   "execution_count": 5,
   "id": "28acb0f5-6547-4606-8fae-c5a4a91356c7",
   "metadata": {},
   "outputs": [],
   "source": [
    "se = prinstine.apply(lambda x : x['object_entity'] if (x['counter'] != 0 and (x['label'] == 'org:members')) else 0, axis = 1)\n",
    "oe = prinstine.apply(lambda x : x['subject_entity'] if (x['counter'] != 0 and (x['label'] == 'org:members')) else 0, axis = 1)"
   ]
  },
  {
   "cell_type": "code",
   "execution_count": 6,
   "id": "5323813a-0ed4-4cac-bdd1-74d43a4f74ce",
   "metadata": {},
   "outputs": [
    {
     "name": "stdout",
     "output_type": "stream",
     "text": [
      "245\n"
     ]
    }
   ],
   "source": [
    "mberof = prinstine.copy()\n",
    "mberof['subject_entity'] = se\n",
    "mberof['object_entity'] = oe\n",
    "mberof = mberof[mberof['subject_entity'] != 0]\n",
    "mberof['label'] = 'org:member_of'\n",
    "print(len(mberof))"
   ]
  },
  {
   "cell_type": "code",
   "execution_count": 7,
   "id": "4495ac11-4815-4818-ae5a-596ff16c1f5f",
   "metadata": {},
   "outputs": [],
   "source": [
    "se = prinstine.apply(lambda x : x['object_entity'] if (x['counter'] != 0 and (x['label'] == 'org:member_of')) else 0, axis = 1)\n",
    "oe = prinstine.apply(lambda x : x['subject_entity'] if (x['counter'] != 0 and (x['label'] == 'org:member_of')) else 0, axis = 1)"
   ]
  },
  {
   "cell_type": "code",
   "execution_count": 8,
   "id": "7183f28d-a235-425d-b781-a0790e22c982",
   "metadata": {},
   "outputs": [
    {
     "name": "stdout",
     "output_type": "stream",
     "text": [
      "566\n"
     ]
    }
   ],
   "source": [
    "mber = prinstine.copy()\n",
    "mber['subject_entity'] = se\n",
    "mber['object_entity'] = oe\n",
    "mber = mber[mber['subject_entity'] != 0]\n",
    "mber['label'] = 'org:members'\n",
    "print(len(mber))"
   ]
  },
  {
   "cell_type": "markdown",
   "id": "43b53869-7837-43d9-b6b0-838412a70c27",
   "metadata": {},
   "source": [
    "### per:parents < = > per:children"
   ]
  },
  {
   "cell_type": "code",
   "execution_count": 9,
   "id": "77546b78-24e8-4657-af62-77a5ec27e73a",
   "metadata": {},
   "outputs": [],
   "source": [
    "se = prinstine.apply(lambda x : x['object_entity'] if (x['counter'] != 0 and (x['label'] == 'per:parents')) else 0, axis = 1)\n",
    "oe = prinstine.apply(lambda x : x['subject_entity'] if (x['counter'] != 0 and (x['label'] == 'per:parents')) else 0, axis = 1)"
   ]
  },
  {
   "cell_type": "code",
   "execution_count": 10,
   "id": "664360cb-289a-4490-a551-b2724ea1354b",
   "metadata": {},
   "outputs": [
    {
     "name": "stdout",
     "output_type": "stream",
     "text": [
      "183\n"
     ]
    }
   ],
   "source": [
    "parent = prinstine.copy()\n",
    "parent['subject_entity'] = se\n",
    "parent['object_entity'] = oe\n",
    "parent = parent[parent['subject_entity'] != 0]\n",
    "parent['label'] = 'per:children'\n",
    "print(len(parent))"
   ]
  },
  {
   "cell_type": "code",
   "execution_count": 11,
   "id": "9e511c1e-a247-4e7d-b263-44c12d57ce22",
   "metadata": {},
   "outputs": [],
   "source": [
    "se = prinstine.apply(lambda x : x['object_entity'] if (x['counter'] != 0 and (x['label'] == 'per:children')) else 0, axis = 1)\n",
    "oe = prinstine.apply(lambda x : x['subject_entity'] if (x['counter'] != 0 and (x['label'] == 'per:children')) else 0, axis = 1)"
   ]
  },
  {
   "cell_type": "code",
   "execution_count": 12,
   "id": "b9f82d9c-67b4-48a1-b9cb-2f30386a96d1",
   "metadata": {},
   "outputs": [
    {
     "name": "stdout",
     "output_type": "stream",
     "text": [
      "222\n"
     ]
    }
   ],
   "source": [
    "child = prinstine.copy()\n",
    "child['subject_entity'] = se\n",
    "child['object_entity'] = oe\n",
    "child = child[child['subject_entity'] != 0]\n",
    "child['label'] = 'per:children'\n",
    "print(len(child))"
   ]
  },
  {
   "cell_type": "code",
   "execution_count": 13,
   "id": "534849c3-23c2-4df9-b5da-38c6d5efffec",
   "metadata": {},
   "outputs": [],
   "source": [
    "se = prinstine.apply(lambda x : x['object_entity'] if (x['counter'] != 0 and (x['label'] == 'org:top_members/employees')) else 0, axis = 1)\n",
    "oe = prinstine.apply(lambda x : x['subject_entity'] if (x['counter'] != 0 and (x['label'] == 'org:top_members/employees')) else 0, axis = 1)"
   ]
  },
  {
   "cell_type": "code",
   "execution_count": 14,
   "id": "145e760a-c1e0-4f11-a85b-aaeab17afc18",
   "metadata": {},
   "outputs": [
    {
     "name": "stdout",
     "output_type": "stream",
     "text": [
      "343\n"
     ]
    }
   ],
   "source": [
    "top_em = prinstine.copy()\n",
    "top_em['subject_entity'] = se\n",
    "top_em['object_entity'] = oe\n",
    "top_em = top_em[top_em['subject_entity'] != 0]\n",
    "top_em['label'] = 'per:employee_of'\n",
    "print(len(top_em))"
   ]
  },
  {
   "cell_type": "code",
   "execution_count": 15,
   "id": "63a4dbee-e757-40ad-9d23-684f9218b583",
   "metadata": {},
   "outputs": [],
   "source": [
    "cleaned_augmented = pd.concat([prinstine, top_em, child, parent, mber, mberof, sub_to_obj]) "
   ]
  },
  {
   "cell_type": "code",
   "execution_count": 16,
   "id": "d3cdc156-17c3-40ae-bd46-ed4441c6cddb",
   "metadata": {},
   "outputs": [],
   "source": [
    "cleaned_augmented = cleaned_augmented.loc[:,['sentence', 'subject_entity', 'object_entity', 'label', 'source']]\n",
    "cleaned_augmented = cleaned_augmented.drop_duplicates()"
   ]
  },
  {
   "cell_type": "code",
   "execution_count": 17,
   "id": "d3c0f301-8e20-47c7-a0ff-db818bc83970",
   "metadata": {},
   "outputs": [],
   "source": [
    "cleaned_augmented.to_csv('cleaned_target_augmented.csv')"
   ]
  },
  {
   "cell_type": "code",
   "execution_count": 18,
   "id": "0207d39d-5dda-4dc5-a5bf-74c737d4ebdd",
   "metadata": {},
   "outputs": [
    {
     "data": {
      "text/plain": [
       "0.17005921539600297"
      ]
     },
     "execution_count": 18,
     "metadata": {},
     "output_type": "execute_result"
    }
   ],
   "source": [
    "(len(cleaned_augmented) - len(prinstine)) / len(prinstine)"
   ]
  }
 ],
 "metadata": {
  "kernelspec": {
   "display_name": "Python 3 (ipykernel)",
   "language": "python",
   "name": "python3"
  },
  "language_info": {
   "codemirror_mode": {
    "name": "ipython",
    "version": 3
   },
   "file_extension": ".py",
   "mimetype": "text/x-python",
   "name": "python",
   "nbconvert_exporter": "python",
   "pygments_lexer": "ipython3",
   "version": "3.8.5"
  }
 },
 "nbformat": 4,
 "nbformat_minor": 5
}
