{
 "cells": [
  {
   "cell_type": "code",
   "execution_count": 368,
   "id": "e8ca0ae0-21d3-4888-a611-14fbf2531f37",
   "metadata": {},
   "outputs": [],
   "source": [
    "import pandas as pd\n",
    "from tqdm import tqdm\n",
    "import numpy as np\n",
    "from sklearn.model_selection import StratifiedKFold"
   ]
  },
  {
   "cell_type": "code",
   "execution_count": 369,
   "id": "6928932f-f33a-43b2-ae7b-cab99b713e64",
   "metadata": {},
   "outputs": [],
   "source": [
    "origin = pd.read_csv('cleaned_target_augmented.csv')"
   ]
  },
  {
   "cell_type": "code",
   "execution_count": 370,
   "id": "64e6051e-7829-4bfa-8466-51367c75d3b6",
   "metadata": {},
   "outputs": [],
   "source": [
    "origin = origin.drop(['id'], axis=1)"
   ]
  },
  {
   "cell_type": "code",
   "execution_count": 371,
   "id": "9da81f8a-059f-41fa-a2d9-4fb0138c49e9",
   "metadata": {},
   "outputs": [],
   "source": [
    "vs = origin['sentence'].value_counts()"
   ]
  },
  {
   "cell_type": "code",
   "execution_count": 372,
   "id": "16fb4bf8-19ae-42d7-9e45-939ec86f2e33",
   "metadata": {},
   "outputs": [
    {
     "name": "stderr",
     "output_type": "stream",
     "text": [
      "100%|██████████| 5112/5112 [00:37<00:00, 137.20it/s]\n"
     ]
    }
   ],
   "source": [
    "rp = vs[vs > 1].keys()\n",
    "\n",
    "i = 0\n",
    "rp_lst = [[] for _ in range(len(rp))]\n",
    "for sen1 in tqdm(rp):\n",
    "    for idx2, sen2 in enumerate(os):\n",
    "        if sen1 == sen2:\n",
    "            rp_lst[i].append(idx2)\n",
    "    i += 1"
   ]
  },
  {
   "cell_type": "code",
   "execution_count": 374,
   "id": "4a0d8caa-9342-4f27-8387-f9e1416358f3",
   "metadata": {},
   "outputs": [
    {
     "name": "stderr",
     "output_type": "stream",
     "text": [
      "100%|██████████| 5112/5112 [00:04<00:00, 1127.58it/s]\n"
     ]
    }
   ],
   "source": [
    "overlap = pd.DataFrame()\n",
    "\n",
    "for i in tqdm(range(len(rp_lst))):\n",
    "    overlap = overlap.append(origin.loc[rp_lst[i]])"
   ]
  },
  {
   "cell_type": "code",
   "execution_count": 464,
   "id": "5a5a00ed-16cf-4268-adc2-31ffa08b1803",
   "metadata": {},
   "outputs": [],
   "source": [
    "idxs = [i for i in range(len(origin))]\n",
    "\n",
    "for lst in rp_lst:\n",
    "    for idx in lst:\n",
    "        idxs.remove(idx)"
   ]
  },
  {
   "cell_type": "code",
   "execution_count": 527,
   "id": "ce44bea5-7924-408a-9974-e0bbd10e3eee",
   "metadata": {},
   "outputs": [
    {
     "data": {
      "text/plain": [
       "트와이스 사나(미나토자키 사나·22) 옷 때문에 다현(김다현·21)이 놀랐다.                                                                                                                                                         1\n",
       "1946년 8월 3일 이승만은 여운홍의 사회민주당(1946) 결성식에 참석하여 축사를 하였다.                                                                                                                                                1\n",
       "바이에른 뮌헨의 감독으로 부임한 이후에도 분데스리가 3연패를 달성하면서 바르셀로나에서의 능력을 유감없이 보여주었지만 챔피언스리그에서는 세 시즌 연속으로 스페인 팀(레알 마드리드, FC 바르셀로나, 아틀레티코 마드리드)들과 4강전에서 만나 모두 패배하면서 챔피언스리그에서 두 번이나 우승했던 과르디올라 감독으로서는 조금 아쉬운 모습을 보여주었다.    1\n",
       "한국판 기준 제152화 후편(기로로의 금단의 기억)에서는 기로로의 기억 속에 있는 히나타 나츠미의 얼굴을 자신의 얼굴로 바꾸는 등의 장난을 쳤다.                                                                                                                   1\n",
       "문화왕후 김씨는 선주(善州, 지금의 경상북도 구미시 선산읍) 사람으로 뒤에 시중(侍中)을 추증받은 김원숭(金元崇)의 딸이다.                                                                                                                               1\n",
       "                                                                                                                                                                                                   ..\n",
       "2019년 CIS중동 시장개척단은 고양시와 함께 총 10개사 파견했으며 파주시 참가기업은 ㈜매직픽스(대표 임송희), 선일금고제작(대표 김영숙), 신우공조(주)(대표 박종찬), ㈜에펠(대표 유성호), 코리아핫픽스(대표 안기풍) 5개사로 경기도경제과학진흥원과 KOTRA알마티, GBC테헤란의 현지 운영으로 진행됐다.                      1\n",
       "1938년 당시 경성기독교연합회 부위원장인 정춘수가 앞장서서 감리교 내선일체를 위해 7인 특별위원회를 조직했을 때 참가했고, 1939년 도쿄에서 조선과 일본의 감리교단 통합을 논의하는 회의가 개최되었을 때는 정춘수, 신흥우, 양주삼, 유형기 등과 함께 전권위원으로 참석했다.                                           1\n",
       "지난해 1월 서울 여의도에서 가진 아스트로 팬사인회 현장에서 찍힌 직캠 영상에서 차은우 씨가 쇄골과 어깨가 살짝 드러날 정도의 오버핏 니트를 입고 춤추는 모습이 '차은우의 허벌니트'라고 회자되면서 유명해졌다.                                                                                1\n",
       "훌라구는 1265년 2월 8일 마라케 부근에서 죽었다.                                                                                                                                                                      1\n",
       "박해윤 씨는 FNC엔터테인먼트 소속 그룹 체리블렛으로 활동하고 있다.                                                                                                                                                              1\n",
       "Name: sentence, Length: 23691, dtype: int64"
      ]
     },
     "execution_count": 527,
     "metadata": {},
     "output_type": "execute_result"
    }
   ],
   "source": [
    "origin.loc[idxs]['sentence'].value_counts()"
   ]
  },
  {
   "cell_type": "code",
   "execution_count": null,
   "id": "31534294-1ecf-48e0-8721-c36ec3f9e14d",
   "metadata": {},
   "outputs": [],
   "source": [
    "no_"
   ]
  },
  {
   "cell_type": "code",
   "execution_count": 539,
   "id": "c86c3aeb-a02f-4331-a4f7-43a3016172a9",
   "metadata": {},
   "outputs": [],
   "source": [
    "skf = StratifiedKFold(n_splits=5, random_state=42, shuffle=True)\n",
    "\n",
    "no_rp_train = [[],[],[],[],[]]\n",
    "no_rp_val = [[],[],[],[],[]]\n",
    "\n",
    "i = 0\n",
    "for train_index, test_index in skf.split(idxs, origin.loc[idxs]['label']):\n",
    "    asd = no_rp_train[i]\n",
    "    for j in train_index:\n",
    "         asd.extend([idxs[j]])\n",
    "    zxc = no_rp_val[i]\n",
    "    for j in test_index:\n",
    "         zxc.extend([idxs[j]])\n",
    "    i += 1"
   ]
  },
  {
   "cell_type": "code",
   "execution_count": 541,
   "id": "8479b75a-76ec-4109-bcf7-27b71d6b7776",
   "metadata": {},
   "outputs": [
    {
     "name": "stderr",
     "output_type": "stream",
     "text": [
      "100%|██████████| 18952/18952 [00:43<00:00, 439.29it/s]\n"
     ]
    }
   ],
   "source": [
    "for sen1 in tqdm(origin.loc[no_rp_train[0]]['sentence']):\n",
    "    for sen2 in origin.loc[no_rp_val[0]]['sentence']:\n",
    "        if sen1 == sen2:\n",
    "            print(sen1)"
   ]
  },
  {
   "cell_type": "code",
   "execution_count": 544,
   "id": "97cb89f7-3879-48b7-98c3-f068f338b042",
   "metadata": {},
   "outputs": [],
   "source": [
    "rp_boss = []\n",
    "for idx in rp_lst:\n",
    "    rp_boss.append(idx[0])\n"
   ]
  },
  {
   "cell_type": "code",
   "execution_count": 545,
   "id": "4bf43592-9afa-43e1-951d-7e3ab4c5ef13",
   "metadata": {},
   "outputs": [],
   "source": [
    "rp_idxs = [i for i in range(len(rp_boss))]"
   ]
  },
  {
   "cell_type": "code",
   "execution_count": 550,
   "id": "60d3d305-1839-4ddb-b0f4-65633cccdcc2",
   "metadata": {},
   "outputs": [
    {
     "name": "stderr",
     "output_type": "stream",
     "text": [
      "/opt/conda/lib/python3.8/site-packages/sklearn/model_selection/_split.py:666: UserWarning: The least populated class in y has only 1 members, which is less than n_splits=5.\n",
      "  warnings.warn((\"The least populated class in y has only %d\"\n"
     ]
    }
   ],
   "source": [
    "rp_train_idx = [[],[],[],[],[]]\n",
    "rp_val_idx = [[],[],[],[],[]]\n",
    "\n",
    "i = 0\n",
    "for train_index, test_index in skf.split(rp_idxs, origin.loc[rp_boss]['label']):\n",
    "    asd = rp_train_idx[i]\n",
    "    for j in train_index:\n",
    "        asd.extend([rp_idxs[j]])\n",
    "    zxc = rp_val_idx[i]\n",
    "    for j in test_index:\n",
    "        zxc.extend([rp_idxs[j]])\n",
    "    i += 1"
   ]
  },
  {
   "cell_type": "code",
   "execution_count": 556,
   "id": "d748c947-cbbd-49ff-8eee-9eea36991c4d",
   "metadata": {},
   "outputs": [],
   "source": [
    "rp_train = [[],[],[],[],[]]\n",
    "rp_val = [[],[],[],[],[]]\n",
    "\n",
    "i = 0\n",
    "for rp in rp_train_idx:\n",
    "    for rp_idx in rp:\n",
    "        rp_train[i].extend(rp_lst[rp_idx])\n",
    "    i += 1\n",
    "    \n",
    "i = 0\n",
    "for rp in rp_val_idx:\n",
    "    for rp_idx in rp:\n",
    "        rp_val[i].extend(rp_lst[rp_idx])\n",
    "    i += 1"
   ]
  },
  {
   "cell_type": "code",
   "execution_count": 567,
   "id": "3cf2e429-a688-496d-93e3-db1e5d416c41",
   "metadata": {},
   "outputs": [],
   "source": [
    "fold_train = np.concatenate([no_rp_train[0], rp_train[0]])\n",
    "fold_val = np.concatenate([no_rp_val[0], rp_val[0]])"
   ]
  },
  {
   "cell_type": "code",
   "execution_count": 568,
   "id": "c9e96242-293d-4723-b3d1-27da525efb70",
   "metadata": {},
   "outputs": [],
   "source": [
    "fold_train = origin.loc[fold_train]\n",
    "fold_val = origin.loc[fold_val]"
   ]
  },
  {
   "cell_type": "code",
   "execution_count": 569,
   "id": "d64d7e66-2c34-4293-bbbe-16109a01d7ca",
   "metadata": {},
   "outputs": [
    {
     "name": "stderr",
     "output_type": "stream",
     "text": [
      "100%|██████████| 6967/6967 [00:31<00:00, 221.99it/s]\n"
     ]
    }
   ],
   "source": [
    "for sen1 in tqdm(fold_val['sentence']):\n",
    "    for sen2 in fold_train['sentence']:\n",
    "        if sen1 == sen2:\n",
    "            print(sen1)\n",
    "            break"
   ]
  },
  {
   "cell_type": "code",
   "execution_count": 565,
   "id": "ea32536b-a001-45b6-9e45-24c2311e45cd",
   "metadata": {},
   "outputs": [],
   "source": [
    "for i in range(5):\n",
    "    fold_train = np.concatenate([no_rp_train[i], rp_train[i]])\n",
    "    fold_val = np.concatenate([no_rp_val[i], rp_val[i]])\n",
    "    \n",
    "    fold_train = origin.loc[fold_train]\n",
    "    fold_val = origin.loc[fold_val]\n",
    "    \n",
    "    fold_train.to_csv(f'fold{i}_train.csv')\n",
    "    fold_val.to_csv(f'fold{i}_val.csv')"
   ]
  },
  {
   "cell_type": "code",
   "execution_count": 328,
   "id": "95038b12-1376-4fae-9dad-9c788c5cdc35",
   "metadata": {},
   "outputs": [
    {
     "name": "stdout",
     "output_type": "stream",
     "text": [
      "11036\n"
     ]
    }
   ],
   "source": [
    "count = 0\n",
    "for a in rp_lst:\n",
    "    for b in a:\n",
    "        count+=1\n",
    "print(count)"
   ]
  },
  {
   "cell_type": "code",
   "execution_count": 571,
   "id": "ee32b0f4-d798-4efb-a681-0042fd008697",
   "metadata": {},
   "outputs": [],
   "source": [
    "xcxc = {'asd':'123'}"
   ]
  },
  {
   "cell_type": "code",
   "execution_count": 573,
   "id": "357f2ed3-f3f9-4ad9-8ac1-3543ec9f0acd",
   "metadata": {},
   "outputs": [
    {
     "data": {
      "text/plain": [
       "'123'"
      ]
     },
     "execution_count": 573,
     "metadata": {},
     "output_type": "execute_result"
    }
   ],
   "source": [
    "xcxc.get('asd')"
   ]
  },
  {
   "cell_type": "code",
   "execution_count": 575,
   "id": "07dca435-1167-4a02-a46e-15fab10dfbf4",
   "metadata": {},
   "outputs": [],
   "source": [
    "import torch"
   ]
  },
  {
   "cell_type": "code",
   "execution_count": 582,
   "id": "c07a4656-3aa0-4b21-9588-b71bd1290365",
   "metadata": {},
   "outputs": [],
   "source": [
    "asd = torch.tensor([ 4,  0,  1,  0,  1,  0,  4,  6,  1,  1, 17, 10, 13,  0,  0, 17,  0,  1,\n",
    "         0,  0,  0,  1, 20,  5,  0, 12, 15, 12,  0,  0,  0,  0])"
   ]
  },
  {
   "cell_type": "code",
   "execution_count": 585,
   "id": "885034f1-893e-4483-8330-6225a328babd",
   "metadata": {},
   "outputs": [
    {
     "data": {
      "text/plain": [
       "tensor([[ 4.,  0.,  1.,  0.,  1.,  0.,  4.,  6.,  1.,  1., 17., 10., 13.,  0.,\n",
       "          0., 17.,  0.,  1.,  0.,  0.,  0.,  1., 20.,  5.,  0., 12., 15., 12.,\n",
       "          0.,  0.,  0.,  0.]])"
      ]
     },
     "execution_count": 585,
     "metadata": {},
     "output_type": "execute_result"
    }
   ],
   "source": [
    "asd.float().view(-1,32)"
   ]
  },
  {
   "cell_type": "code",
   "execution_count": 586,
   "id": "7f022faf-fd9d-437d-93a0-9ee684c7acf1",
   "metadata": {},
   "outputs": [],
   "source": [
    "import torch\n",
    "import torch.nn.functional as F\n",
    "\n",
    "input = torch.randn(3, 5, requires_grad=True)\n",
    "target = torch.randint(5, (3,), dtype=torch.int64)\n",
    "loss = F.cross_entropy(input, target)\n",
    "loss.backward()"
   ]
  },
  {
   "cell_type": "code",
   "execution_count": 588,
   "id": "e66844a7-2ea3-4418-a9ea-e53e83415b0a",
   "metadata": {},
   "outputs": [
    {
     "data": {
      "text/plain": [
       "tensor([3, 2, 2])"
      ]
     },
     "execution_count": 588,
     "metadata": {},
     "output_type": "execute_result"
    }
   ],
   "source": [
    "target"
   ]
  },
  {
   "cell_type": "code",
   "execution_count": 589,
   "id": "b4767fa0-f0eb-4f87-9e31-36f1012f4998",
   "metadata": {},
   "outputs": [
    {
     "data": {
      "text/plain": [
       "tensor([[-0.1148, -1.1841, -0.1299, -2.8254,  1.5455],\n",
       "        [-1.3652, -0.0629, -0.3447,  0.0806, -0.2065],\n",
       "        [-0.1235,  0.0057, -0.7275,  1.0401, -0.1143]], requires_grad=True)"
      ]
     },
     "execution_count": 589,
     "metadata": {},
     "output_type": "execute_result"
    }
   ],
   "source": [
    "input"
   ]
  },
  {
   "cell_type": "code",
   "execution_count": 590,
   "id": "d4133e61-0599-4735-8aeb-eaa78c89ba28",
   "metadata": {},
   "outputs": [
    {
     "data": {
      "text/plain": [
       "tensor(2.9869, grad_fn=<NllLossBackward>)"
      ]
     },
     "execution_count": 590,
     "metadata": {},
     "output_type": "execute_result"
    }
   ],
   "source": [
    "loss"
   ]
  }
 ],
 "metadata": {
  "kernelspec": {
   "display_name": "Python 3 (ipykernel)",
   "language": "python",
   "name": "python3"
  },
  "language_info": {
   "codemirror_mode": {
    "name": "ipython",
    "version": 3
   },
   "file_extension": ".py",
   "mimetype": "text/x-python",
   "name": "python",
   "nbconvert_exporter": "python",
   "pygments_lexer": "ipython3",
   "version": "3.8.5"
  }
 },
 "nbformat": 4,
 "nbformat_minor": 5
}
