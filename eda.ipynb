{
 "cells": [
  {
   "cell_type": "code",
   "execution_count": 12,
   "id": "c8eecaa2-711c-47bf-a950-1b3130f40bde",
   "metadata": {},
   "outputs": [],
   "source": [
    "import pandas as pd\n",
    "import matplotlib.pyplot as plt"
   ]
  },
  {
   "cell_type": "code",
   "execution_count": 3,
   "id": "83253e7b-bdf1-4510-898d-3c615d802ab2",
   "metadata": {},
   "outputs": [
    {
     "data": {
      "text/html": [
       "<div>\n",
       "<style scoped>\n",
       "    .dataframe tbody tr th:only-of-type {\n",
       "        vertical-align: middle;\n",
       "    }\n",
       "\n",
       "    .dataframe tbody tr th {\n",
       "        vertical-align: top;\n",
       "    }\n",
       "\n",
       "    .dataframe thead th {\n",
       "        text-align: right;\n",
       "    }\n",
       "</style>\n",
       "<table border=\"1\" class=\"dataframe\">\n",
       "  <thead>\n",
       "    <tr style=\"text-align: right;\">\n",
       "      <th></th>\n",
       "      <th>id</th>\n",
       "      <th>sentence</th>\n",
       "      <th>subject_entity</th>\n",
       "      <th>object_entity</th>\n",
       "      <th>label</th>\n",
       "      <th>source</th>\n",
       "    </tr>\n",
       "  </thead>\n",
       "  <tbody>\n",
       "    <tr>\n",
       "      <th>0</th>\n",
       "      <td>0</td>\n",
       "      <td>〈Something〉는 조지 해리슨이 쓰고 비틀즈가 1969년 앨범 《Abbey R...</td>\n",
       "      <td>{'word': '비틀즈', 'start_idx': 24, 'end_idx': 26...</td>\n",
       "      <td>{'word': '조지 해리슨', 'start_idx': 13, 'end_idx':...</td>\n",
       "      <td>no_relation</td>\n",
       "      <td>wikipedia</td>\n",
       "    </tr>\n",
       "    <tr>\n",
       "      <th>1</th>\n",
       "      <td>1</td>\n",
       "      <td>호남이 기반인 바른미래당·대안신당·민주평화당이 우여곡절 끝에 합당해 민생당(가칭)으...</td>\n",
       "      <td>{'word': '민주평화당', 'start_idx': 19, 'end_idx': ...</td>\n",
       "      <td>{'word': '대안신당', 'start_idx': 14, 'end_idx': 1...</td>\n",
       "      <td>no_relation</td>\n",
       "      <td>wikitree</td>\n",
       "    </tr>\n",
       "    <tr>\n",
       "      <th>2</th>\n",
       "      <td>2</td>\n",
       "      <td>K리그2에서 성적 1위를 달리고 있는 광주FC는 지난 26일 한국프로축구연맹으로부터...</td>\n",
       "      <td>{'word': '광주FC', 'start_idx': 21, 'end_idx': 2...</td>\n",
       "      <td>{'word': '한국프로축구연맹', 'start_idx': 34, 'end_idx...</td>\n",
       "      <td>org:member_of</td>\n",
       "      <td>wikitree</td>\n",
       "    </tr>\n",
       "    <tr>\n",
       "      <th>3</th>\n",
       "      <td>3</td>\n",
       "      <td>균일가 생활용품점 (주)아성다이소(대표 박정부)는 코로나19 바이러스로 어려움을 겪...</td>\n",
       "      <td>{'word': '아성다이소', 'start_idx': 13, 'end_idx': ...</td>\n",
       "      <td>{'word': '박정부', 'start_idx': 22, 'end_idx': 24...</td>\n",
       "      <td>org:top_members/employees</td>\n",
       "      <td>wikitree</td>\n",
       "    </tr>\n",
       "    <tr>\n",
       "      <th>4</th>\n",
       "      <td>4</td>\n",
       "      <td>1967년 프로 야구 드래프트 1순위로 요미우리 자이언츠에게 입단하면서 등번호는 8...</td>\n",
       "      <td>{'word': '요미우리 자이언츠', 'start_idx': 22, 'end_id...</td>\n",
       "      <td>{'word': '1967', 'start_idx': 0, 'end_idx': 3,...</td>\n",
       "      <td>no_relation</td>\n",
       "      <td>wikipedia</td>\n",
       "    </tr>\n",
       "    <tr>\n",
       "      <th>...</th>\n",
       "      <td>...</td>\n",
       "      <td>...</td>\n",
       "      <td>...</td>\n",
       "      <td>...</td>\n",
       "      <td>...</td>\n",
       "      <td>...</td>\n",
       "    </tr>\n",
       "    <tr>\n",
       "      <th>32465</th>\n",
       "      <td>32465</td>\n",
       "      <td>한국당은 7일 오전 9시부터 오후 5시까지 진행된 원내대표 및 정책위의장 후보자 등...</td>\n",
       "      <td>{'word': '유기준', 'start_idx': 93, 'end_idx': 95...</td>\n",
       "      <td>{'word': '부산 서구·동구', 'start_idx': 100, 'end_id...</td>\n",
       "      <td>per:employee_of</td>\n",
       "      <td>wikitree</td>\n",
       "    </tr>\n",
       "    <tr>\n",
       "      <th>32466</th>\n",
       "      <td>32466</td>\n",
       "      <td>법포는 다시 최시형, 서병학, 손병희 직계인 북접과 다시 서장옥, 전봉준, 김개남을...</td>\n",
       "      <td>{'word': '최시형', 'start_idx': 7, 'end_idx': 9, ...</td>\n",
       "      <td>{'word': '손병희', 'start_idx': 17, 'end_idx': 19...</td>\n",
       "      <td>per:colleagues</td>\n",
       "      <td>wikipedia</td>\n",
       "    </tr>\n",
       "    <tr>\n",
       "      <th>32467</th>\n",
       "      <td>32467</td>\n",
       "      <td>완도군(군수 신우철)이 국토교통부에서 실시한 '2019 교통문화지수 실태조사'에서 ...</td>\n",
       "      <td>{'word': '완도군', 'start_idx': 0, 'end_idx': 2, ...</td>\n",
       "      <td>{'word': '신우철', 'start_idx': 7, 'end_idx': 9, ...</td>\n",
       "      <td>org:top_members/employees</td>\n",
       "      <td>wikitree</td>\n",
       "    </tr>\n",
       "    <tr>\n",
       "      <th>32468</th>\n",
       "      <td>32468</td>\n",
       "      <td>중앙일보, JTBC 회장을 지낸 이후 중앙홀딩스 회장, 재단법인 한반도평화만들기 이...</td>\n",
       "      <td>{'word': 'JTBC', 'start_idx': 6, 'end_idx': 9,...</td>\n",
       "      <td>{'word': '중앙홀딩스', 'start_idx': 21, 'end_idx': ...</td>\n",
       "      <td>no_relation</td>\n",
       "      <td>wikipedia</td>\n",
       "    </tr>\n",
       "    <tr>\n",
       "      <th>32469</th>\n",
       "      <td>32469</td>\n",
       "      <td>화순군(군수 구충곤)은 17일 동면의 이장 20여 명이 코로나 19 예방을 위해 버...</td>\n",
       "      <td>{'word': '화순군', 'start_idx': 0, 'end_idx': 2, ...</td>\n",
       "      <td>{'word': '구충곤', 'start_idx': 7, 'end_idx': 9, ...</td>\n",
       "      <td>org:top_members/employees</td>\n",
       "      <td>wikitree</td>\n",
       "    </tr>\n",
       "  </tbody>\n",
       "</table>\n",
       "<p>32470 rows × 6 columns</p>\n",
       "</div>"
      ],
      "text/plain": [
       "          id                                           sentence  \\\n",
       "0          0  〈Something〉는 조지 해리슨이 쓰고 비틀즈가 1969년 앨범 《Abbey R...   \n",
       "1          1  호남이 기반인 바른미래당·대안신당·민주평화당이 우여곡절 끝에 합당해 민생당(가칭)으...   \n",
       "2          2  K리그2에서 성적 1위를 달리고 있는 광주FC는 지난 26일 한국프로축구연맹으로부터...   \n",
       "3          3  균일가 생활용품점 (주)아성다이소(대표 박정부)는 코로나19 바이러스로 어려움을 겪...   \n",
       "4          4  1967년 프로 야구 드래프트 1순위로 요미우리 자이언츠에게 입단하면서 등번호는 8...   \n",
       "...      ...                                                ...   \n",
       "32465  32465  한국당은 7일 오전 9시부터 오후 5시까지 진행된 원내대표 및 정책위의장 후보자 등...   \n",
       "32466  32466  법포는 다시 최시형, 서병학, 손병희 직계인 북접과 다시 서장옥, 전봉준, 김개남을...   \n",
       "32467  32467  완도군(군수 신우철)이 국토교통부에서 실시한 '2019 교통문화지수 실태조사'에서 ...   \n",
       "32468  32468  중앙일보, JTBC 회장을 지낸 이후 중앙홀딩스 회장, 재단법인 한반도평화만들기 이...   \n",
       "32469  32469  화순군(군수 구충곤)은 17일 동면의 이장 20여 명이 코로나 19 예방을 위해 버...   \n",
       "\n",
       "                                          subject_entity  \\\n",
       "0      {'word': '비틀즈', 'start_idx': 24, 'end_idx': 26...   \n",
       "1      {'word': '민주평화당', 'start_idx': 19, 'end_idx': ...   \n",
       "2      {'word': '광주FC', 'start_idx': 21, 'end_idx': 2...   \n",
       "3      {'word': '아성다이소', 'start_idx': 13, 'end_idx': ...   \n",
       "4      {'word': '요미우리 자이언츠', 'start_idx': 22, 'end_id...   \n",
       "...                                                  ...   \n",
       "32465  {'word': '유기준', 'start_idx': 93, 'end_idx': 95...   \n",
       "32466  {'word': '최시형', 'start_idx': 7, 'end_idx': 9, ...   \n",
       "32467  {'word': '완도군', 'start_idx': 0, 'end_idx': 2, ...   \n",
       "32468  {'word': 'JTBC', 'start_idx': 6, 'end_idx': 9,...   \n",
       "32469  {'word': '화순군', 'start_idx': 0, 'end_idx': 2, ...   \n",
       "\n",
       "                                           object_entity  \\\n",
       "0      {'word': '조지 해리슨', 'start_idx': 13, 'end_idx':...   \n",
       "1      {'word': '대안신당', 'start_idx': 14, 'end_idx': 1...   \n",
       "2      {'word': '한국프로축구연맹', 'start_idx': 34, 'end_idx...   \n",
       "3      {'word': '박정부', 'start_idx': 22, 'end_idx': 24...   \n",
       "4      {'word': '1967', 'start_idx': 0, 'end_idx': 3,...   \n",
       "...                                                  ...   \n",
       "32465  {'word': '부산 서구·동구', 'start_idx': 100, 'end_id...   \n",
       "32466  {'word': '손병희', 'start_idx': 17, 'end_idx': 19...   \n",
       "32467  {'word': '신우철', 'start_idx': 7, 'end_idx': 9, ...   \n",
       "32468  {'word': '중앙홀딩스', 'start_idx': 21, 'end_idx': ...   \n",
       "32469  {'word': '구충곤', 'start_idx': 7, 'end_idx': 9, ...   \n",
       "\n",
       "                           label     source  \n",
       "0                    no_relation  wikipedia  \n",
       "1                    no_relation   wikitree  \n",
       "2                  org:member_of   wikitree  \n",
       "3      org:top_members/employees   wikitree  \n",
       "4                    no_relation  wikipedia  \n",
       "...                          ...        ...  \n",
       "32465            per:employee_of   wikitree  \n",
       "32466             per:colleagues  wikipedia  \n",
       "32467  org:top_members/employees   wikitree  \n",
       "32468                no_relation  wikipedia  \n",
       "32469  org:top_members/employees   wikitree  \n",
       "\n",
       "[32470 rows x 6 columns]"
      ]
     },
     "execution_count": 3,
     "metadata": {},
     "output_type": "execute_result"
    }
   ],
   "source": [
    "pd_train_dataset = pd.read_csv('dataset/train/train.csv')\n",
    "pd_train_dataset"
   ]
  },
  {
   "cell_type": "code",
   "execution_count": 9,
   "id": "b698cecb-ecdc-480a-9820-3257ff11ddc0",
   "metadata": {},
   "outputs": [
    {
     "name": "stdout",
     "output_type": "stream",
     "text": [
      "〈Something〉는 조지 해리슨이 쓰고 비틀즈가 1969년 앨범 《Abbey Road》에 담은 노래다.\n",
      "{'word': '비틀즈', 'start_idx': 24, 'end_idx': 26, 'type': 'ORG'}\n",
      "{'word': '조지 해리슨', 'start_idx': 13, 'end_idx': 18, 'type': 'PER'}\n"
     ]
    }
   ],
   "source": [
    "print(pd_train_dataset['sentence'][0])\n",
    "print(pd_train_dataset['subject_entity'][0])\n",
    "print(pd_train_dataset['object_entity'][0])"
   ]
  },
  {
   "cell_type": "code",
   "execution_count": 5,
   "id": "0d7e63d2-4d7d-4713-b9f8-e2ea8197f434",
   "metadata": {},
   "outputs": [
    {
     "data": {
      "text/plain": [
       "array(['no_relation', 'org:member_of', 'org:top_members/employees',\n",
       "       'org:alternate_names', 'per:date_of_birth',\n",
       "       'org:place_of_headquarters', 'per:employee_of', 'per:origin',\n",
       "       'per:title', 'org:members', 'per:schools_attended',\n",
       "       'per:colleagues', 'per:alternate_names', 'per:spouse',\n",
       "       'org:founded_by', 'org:political/religious_affiliation',\n",
       "       'per:children', 'org:founded', 'org:number_of_employees/members',\n",
       "       'per:place_of_birth', 'org:dissolved', 'per:parents',\n",
       "       'per:religion', 'per:date_of_death', 'per:place_of_residence',\n",
       "       'per:other_family', 'org:product', 'per:siblings', 'per:product',\n",
       "       'per:place_of_death'], dtype=object)"
      ]
     },
     "execution_count": 5,
     "metadata": {},
     "output_type": "execute_result"
    }
   ],
   "source": [
    "pd_train_dataset['label'].unique()"
   ]
  },
  {
   "cell_type": "code",
   "execution_count": 6,
   "id": "6eda90ca-44ec-4e1b-b656-97d0f00a0cdb",
   "metadata": {},
   "outputs": [
    {
     "data": {
      "text/plain": [
       "array(['wikipedia', 'wikitree', 'policy_briefing'], dtype=object)"
      ]
     },
     "execution_count": 6,
     "metadata": {},
     "output_type": "execute_result"
    }
   ],
   "source": [
    "pd_train_dataset['source'].unique()"
   ]
  },
  {
   "cell_type": "code",
   "execution_count": 13,
   "id": "5bbfdc05-e2d0-4589-ab11-9cd20bd1c831",
   "metadata": {},
   "outputs": [
    {
     "name": "stdout",
     "output_type": "stream",
     "text": [
      "no_relation                            9534\n",
      "org:top_members/employees              4284\n",
      "per:employee_of                        3573\n",
      "per:title                              2103\n",
      "org:member_of                          1866\n",
      "org:alternate_names                    1320\n",
      "per:origin                             1234\n",
      "org:place_of_headquarters              1195\n",
      "per:date_of_birth                      1130\n",
      "per:alternate_names                    1001\n",
      "per:spouse                              795\n",
      "per:colleagues                          534\n",
      "per:parents                             520\n",
      "org:founded                             450\n",
      "org:members                             420\n",
      "per:date_of_death                       418\n",
      "org:product                             380\n",
      "per:children                            304\n",
      "per:place_of_residence                  193\n",
      "per:other_family                        190\n",
      "per:place_of_birth                      166\n",
      "org:founded_by                          155\n",
      "per:product                             139\n",
      "per:siblings                            136\n",
      "org:political/religious_affiliation      98\n",
      "per:religion                             96\n",
      "per:schools_attended                     82\n",
      "org:dissolved                            66\n",
      "org:number_of_employees/members          48\n",
      "per:place_of_death                       40\n",
      "Name: label, dtype: int64\n"
     ]
    },
    {
     "data": {
      "text/plain": [
       "<BarContainer object of 30 artists>"
      ]
     },
     "execution_count": 13,
     "metadata": {},
     "output_type": "execute_result"
    },
    {
     "data": {
      "image/png": "[encoded data removed]",
      "text/plain": [
       "<Figure size 432x288 with 1 Axes>"
      ]
     },
     "metadata": {
      "needs_background": "light"
     },
     "output_type": "display_data"
    }
   ],
   "source": [
    "print(pd_train_dataset['label'].value_counts())\n",
    "labels = pd.value_counts(pd_train_dataset['label']).sort_index()\n",
    "plt.bar(labels.index, labels)"
   ]
  },
  {
   "cell_type": "code",
   "execution_count": 40,
   "id": "b0604368-2b20-48dd-986c-515653ebf201",
   "metadata": {},
   "outputs": [
    {
     "name": "stdout",
     "output_type": "stream",
     "text": [
      "[(79, 413), (69, 395), (62, 391), (74, 377), (78, 373), (67, 369), (76, 368), (64, 367), (68, 367), (77, 367)]\n"
     ]
    },
    {
     "data": {
      "text/plain": [
       "<BarContainer object of 361 artists>"
      ]
     },
     "execution_count": 40,
     "metadata": {},
     "output_type": "execute_result"
    },
    {
     "data": {
      "image/png": "[encoded data removed]",
      "text/plain": [
       "<Figure size 432x288 with 1 Axes>"
      ]
     },
     "metadata": {
      "needs_background": "light"
     },
     "output_type": "display_data"
    }
   ],
   "source": [
    "from collections import Counter\n",
    "\n",
    "counter = list(pd_train_dataset['sentence'].values)\n",
    "lengths = []\n",
    "for c in counter:\n",
    "    lengths.append(len(c))\n",
    "c = Counter(lengths)\n",
    "# key: length, value: frequency\n",
    "print(c.most_common(10))\n",
    "plt.bar(c.keys(), c.values())"
   ]
  },
  {
   "cell_type": "code",
   "execution_count": 52,
   "id": "6100206c-8b38-4f30-94ea-ea3b19a3d239",
   "metadata": {},
   "outputs": [
    {
     "name": "stdout",
     "output_type": "stream",
     "text": [
      "381\n",
      "32470\n"
     ]
    }
   ],
   "source": [
    "s = 0\n",
    "for k, v in c.items():\n",
    "    if k > 256:\n",
    "        s += v\n",
    "print(s)\n",
    "print(sum(c.values()))"
   ]
  },
  {
   "cell_type": "code",
   "execution_count": null,
   "id": "f3a9f6d2-b8cf-4e01-852c-a33be39567ce",
   "metadata": {},
   "outputs": [],
   "source": []
  },
  {
   "cell_type": "code",
   "execution_count": 23,
   "id": "6d596012-7055-4ea6-b4c5-6b26a50e0a69",
   "metadata": {},
   "outputs": [
    {
     "name": "stdout",
     "output_type": "stream",
     "text": [
      "{'input_ids': tensor([[    2,    11, 29830,  ...,     0,     0,     0],\n",
      "        [    2,    11,  3772,  ...,     0,     0,     0],\n",
      "        [    2,    11,  4104,  ...,     0,     0,     0],\n",
      "        ...,\n",
      "        [    2,    11, 18272,  ...,     0,     0,     0],\n",
      "        [    2,    11, 15710,  ...,     0,     0,     0],\n",
      "        [    2,    11, 15437,  ...,     0,     0,     0]]), 'token_type_ids': tensor([[0, 0, 0,  ..., 0, 0, 0],\n",
      "        [0, 0, 0,  ..., 0, 0, 0],\n",
      "        [0, 0, 0,  ..., 0, 0, 0],\n",
      "        ...,\n",
      "        [0, 0, 0,  ..., 0, 0, 0],\n",
      "        [0, 0, 0,  ..., 0, 0, 0],\n",
      "        [0, 0, 0,  ..., 0, 0, 0]]), 'attention_mask': tensor([[1, 1, 1,  ..., 0, 0, 0],\n",
      "        [1, 1, 1,  ..., 0, 0, 0],\n",
      "        [1, 1, 1,  ..., 0, 0, 0],\n",
      "        ...,\n",
      "        [1, 1, 1,  ..., 0, 0, 0],\n",
      "        [1, 1, 1,  ..., 0, 0, 0],\n",
      "        [1, 1, 1,  ..., 0, 0, 0]])}\n"
     ]
    }
   ],
   "source": [
    "from transformers import AutoTokenizer\n",
    "\n",
    "def preprocessing_dataset(dataset):\n",
    "    \"\"\" 처음 불러온 csv 파일을 원하는 형태의 DataFrame으로 변경 시켜줍니다.\"\"\"\n",
    "    subject_entity = []\n",
    "    object_entity = []\n",
    "    for i,j in zip(dataset['subject_entity'], dataset['object_entity']):\n",
    "        i = i[1:-1].split(',')[0].split(':')[1]\n",
    "        j = j[1:-1].split(',')[0].split(':')[1]\n",
    "\n",
    "        subject_entity.append(i)\n",
    "        object_entity.append(j)\n",
    "    out_dataset = pd.DataFrame({'id':dataset['id'], 'sentence':dataset['sentence'],'subject_entity':subject_entity,'object_entity':object_entity,'label':dataset['label'],})\n",
    "    return out_dataset\n",
    "\n",
    "preprocessed_train_dataset = preprocessing_dataset(pd_train_dataset)\n",
    "\n",
    "MODEL_NAME = \"klue/bert-base\"\n",
    "tokenizer = AutoTokenizer.from_pretrained(MODEL_NAME)\n",
    "\n",
    "concat_entity = []\n",
    "for e1, e2 in zip(preprocessed_train_dataset['subject_entity'], preprocessed_train_dataset['object_entity']):\n",
    "    t = e1 + '[SEP]' + e2\n",
    "    concat_entity.append(t)\n",
    "    \n",
    "tokenized_sentences = tokenizer(\n",
    "      concat_entity,\n",
    "      list(preprocessed_train_dataset['sentence']),\n",
    "      return_tensors=\"pt\",\n",
    "      padding=True,\n",
    "      truncation=True,\n",
    "      max_length=256,\n",
    "      add_special_tokens=True,\n",
    "      )\n",
    "\n",
    "print(tokenized_sentences)"
   ]
  },
  {
   "cell_type": "code",
   "execution_count": 24,
   "id": "ae3dac79-9774-4e46-8bcb-87907563b62c",
   "metadata": {},
   "outputs": [
    {
     "data": {
      "text/plain": [
       "32470"
      ]
     },
     "execution_count": 24,
     "metadata": {},
     "output_type": "execute_result"
    }
   ],
   "source": [
    "len(tokenized_sentences['input_ids'])"
   ]
  },
  {
   "cell_type": "code",
   "execution_count": 27,
   "id": "3c328969-766f-4d48-9db7-4fca12e82f81",
   "metadata": {},
   "outputs": [
    {
     "data": {
      "text/plain": [
       "\"[CLS]'박용오'[SEP]'1937년 4월 29일'[SEP] 박용오 ( 朴 [UNK] [UNK], 1937년 4월 29일 ( 음력 3월 19일 ) ( 음력 3월 19일 ) ~ 2009년 11월 4일 ) 는 서울에서 태어난 대한민국의 기업인으로 두산그룹 회장, KBO 총재 등을 역임했다. [SEP] [PAD] [PAD] [PAD] [PAD] [PAD] [PAD] [PAD] [PAD] [PAD] [PAD] [PAD] [PAD] [PAD] [PAD] [PAD] [PAD] [PAD] [PAD] [PAD] [PAD] [PAD] [PAD] [PAD] [PAD] [PAD] [PAD] [PAD] [PAD] [PAD] [PAD] [PAD] [PAD] [PAD] [PAD] [PAD] [PAD] [PAD] [PAD] [PAD] [PAD] [PAD] [PAD] [PAD] [PAD] [PAD] [PAD] [PAD] [PAD] [PAD] [PAD] [PAD] [PAD] [PAD] [PAD] [PAD] [PAD] [PAD] [PAD] [PAD] [PAD] [PAD] [PAD] [PAD] [PAD] [PAD] [PAD] [PAD] [PAD] [PAD] [PAD] [PAD] [PAD] [PAD] [PAD] [PAD] [PAD] [PAD] [PAD] [PAD] [PAD] [PAD] [PAD] [PAD] [PAD] [PAD] [PAD] [PAD] [PAD] [PAD] [PAD] [PAD] [PAD] [PAD] [PAD] [PAD] [PAD] [PAD] [PAD] [PAD] [PAD] [PAD] [PAD] [PAD] [PAD] [PAD] [PAD] [PAD] [PAD] [PAD] [PAD] [PAD] [PAD] [PAD] [PAD] [PAD] [PAD] [PAD] [PAD] [PAD] [PAD] [PAD] [PAD] [PAD] [PAD] [PAD] [PAD] [PAD] [PAD] [PAD] [PAD] [PAD] [PAD] [PAD] [PAD] [PAD] [PAD] [PAD] [PAD] [PAD] [PAD] [PAD] [PAD] [PAD] [PAD] [PAD] [PAD] [PAD] [PAD] [PAD] [PAD] [PAD] [PAD] [PAD] [PAD] [PAD] [PAD] [PAD] [PAD] [PAD] [PAD] [PAD] [PAD] [PAD] [PAD] [PAD] [PAD] [PAD] [PAD] [PAD] [PAD]\""
      ]
     },
     "execution_count": 27,
     "metadata": {},
     "output_type": "execute_result"
    }
   ],
   "source": [
    "tokenizer.decode(tokenized_sentences['input_ids'][7])"
   ]
  },
  {
   "cell_type": "code",
   "execution_count": null,
   "id": "a787d735-f290-4df2-8f9d-806a25ae0712",
   "metadata": {},
   "outputs": [],
   "source": []
  },
  {
   "cell_type": "code",
   "execution_count": null,
   "id": "a92cf72a-0e13-4761-9fe1-e680781d3712",
   "metadata": {},
   "outputs": [],
   "source": []
  },
  {
   "cell_type": "code",
   "execution_count": null,
   "id": "b436daec-f378-4e99-aefe-4d0c8b07b50e",
   "metadata": {},
   "outputs": [],
   "source": []
  },
  {
   "cell_type": "code",
   "execution_count": null,
   "id": "aff1c6d6-f4b8-4a93-b605-ba0aadf1747c",
   "metadata": {},
   "outputs": [],
   "source": []
  },
  {
   "cell_type": "code",
   "execution_count": null,
   "id": "396e186e-f6af-4aea-a7c1-0b704d2b9410",
   "metadata": {},
   "outputs": [],
   "source": [
    "# Label order\n",
    "label_list = ['no_relation', 'org:top_members/employees', 'org:members',\n",
    "       'org:product', 'per:title', 'org:alternate_names',\n",
    "       'per:employee_of', 'org:place_of_headquarters', 'per:product',\n",
    "       'org:number_of_employees/members', 'per:children',\n",
    "       'per:place_of_residence', 'per:alternate_names',\n",
    "       'per:other_family', 'per:colleagues', 'per:origin', 'per:siblings',\n",
    "       'per:spouse', 'org:founded', 'org:political/religious_affiliation',\n",
    "       'org:member_of', 'per:parents', 'org:dissolved',\n",
    "       'per:schools_attended', 'per:date_of_death', 'per:date_of_birth',\n",
    "       'per:place_of_birth', 'per:place_of_death', 'org:founded_by',\n",
    "       'per:religion']"
   ]
  },
  {
   "cell_type": "code",
   "execution_count": 4,
   "id": "f06a3097-52cd-4b38-84b2-6bb016e913d3",
   "metadata": {},
   "outputs": [
    {
     "data": {
      "text/html": [
       "<div>\n",
       "<style scoped>\n",
       "    .dataframe tbody tr th:only-of-type {\n",
       "        vertical-align: middle;\n",
       "    }\n",
       "\n",
       "    .dataframe tbody tr th {\n",
       "        vertical-align: top;\n",
       "    }\n",
       "\n",
       "    .dataframe thead th {\n",
       "        text-align: right;\n",
       "    }\n",
       "</style>\n",
       "<table border=\"1\" class=\"dataframe\">\n",
       "  <thead>\n",
       "    <tr style=\"text-align: right;\">\n",
       "      <th></th>\n",
       "      <th>id</th>\n",
       "      <th>sentence</th>\n",
       "      <th>subject_entity</th>\n",
       "      <th>object_entity</th>\n",
       "      <th>label</th>\n",
       "      <th>source</th>\n",
       "    </tr>\n",
       "  </thead>\n",
       "  <tbody>\n",
       "    <tr>\n",
       "      <th>0</th>\n",
       "      <td>0</td>\n",
       "      <td>지난 15일 MBC '탐사기획 스트레이트'가 이 사실을 보도했다.</td>\n",
       "      <td>{'word': 'MBC', 'start_idx': 7, 'end_idx': 9, ...</td>\n",
       "      <td>{'word': '탐사기획 스트레이트', 'start_idx': 12, 'end_i...</td>\n",
       "      <td>100</td>\n",
       "      <td>wikitree</td>\n",
       "    </tr>\n",
       "    <tr>\n",
       "      <th>1</th>\n",
       "      <td>1</td>\n",
       "      <td>사랑스러운 ‘프린세스 프링’의 이름은 봄의 공주님: Princess(s)Pring이...</td>\n",
       "      <td>{'word': '프린세스 프링', 'start_idx': 7, 'end_idx':...</td>\n",
       "      <td>{'word': '공주', 'start_idx': 84, 'end_idx': 85,...</td>\n",
       "      <td>100</td>\n",
       "      <td>wikipedia</td>\n",
       "    </tr>\n",
       "    <tr>\n",
       "      <th>2</th>\n",
       "      <td>2</td>\n",
       "      <td>한편, 본인(이근안)을 모델로 한 MBC 특집드라마 가 1995년 6.25 특집극으...</td>\n",
       "      <td>{'word': '경찰', 'start_idx': 121, 'end_idx': 12...</td>\n",
       "      <td>{'word': '1995년', 'start_idx': 31, 'end_idx': ...</td>\n",
       "      <td>100</td>\n",
       "      <td>wikipedia</td>\n",
       "    </tr>\n",
       "    <tr>\n",
       "      <th>3</th>\n",
       "      <td>3</td>\n",
       "      <td>정창손은 김질과 같이 대궐로 달려가 고변하며 '신은 실로 모르고 김질만 혼자 참여하...</td>\n",
       "      <td>{'word': '세조', 'start_idx': 78, 'end_idx': 79,...</td>\n",
       "      <td>{'word': '정창손', 'start_idx': 0, 'end_idx': 2, ...</td>\n",
       "      <td>100</td>\n",
       "      <td>wikipedia</td>\n",
       "    </tr>\n",
       "    <tr>\n",
       "      <th>4</th>\n",
       "      <td>4</td>\n",
       "      <td>당시 민주당 이진련 시의원은 권영진 시장에게 \"긴급 생계자금을 왜 현금으로 지원하지...</td>\n",
       "      <td>{'word': '민주당', 'start_idx': 3, 'end_idx': 5, ...</td>\n",
       "      <td>{'word': '권영진', 'start_idx': 16, 'end_idx': 18...</td>\n",
       "      <td>100</td>\n",
       "      <td>wikitree</td>\n",
       "    </tr>\n",
       "    <tr>\n",
       "      <th>...</th>\n",
       "      <td>...</td>\n",
       "      <td>...</td>\n",
       "      <td>...</td>\n",
       "      <td>...</td>\n",
       "      <td>...</td>\n",
       "      <td>...</td>\n",
       "    </tr>\n",
       "    <tr>\n",
       "      <th>7760</th>\n",
       "      <td>7760</td>\n",
       "      <td>코로나19 방역 조치의 일환으로 국민의 움직임을 통제하려는 정부의 시도를 이탈리아 ...</td>\n",
       "      <td>{'word': '정부', 'start_idx': 33, 'end_idx': 34,...</td>\n",
       "      <td>{'word': '이탈리아', 'start_idx': 41, 'end_idx': 4...</td>\n",
       "      <td>100</td>\n",
       "      <td>wikitree</td>\n",
       "    </tr>\n",
       "    <tr>\n",
       "      <th>7761</th>\n",
       "      <td>7761</td>\n",
       "      <td>선 연구원은 “위식도역류질환치료제인 케이캡이 92억원 판매되면서 2019년 연간 3...</td>\n",
       "      <td>{'word': '종근당', 'start_idx': 133, 'end_idx': 1...</td>\n",
       "      <td>{'word': '전년', 'start_idx': 143, 'end_idx': 14...</td>\n",
       "      <td>100</td>\n",
       "      <td>wikitree</td>\n",
       "    </tr>\n",
       "    <tr>\n",
       "      <th>7762</th>\n",
       "      <td>7762</td>\n",
       "      <td>한국전기안전공사(사장 조성완)는 8월 1일부로, 3급 간부직원에 대한 승진·이동 인...</td>\n",
       "      <td>{'word': '한국전기안전공사', 'start_idx': 0, 'end_idx'...</td>\n",
       "      <td>{'word': '조성완', 'start_idx': 12, 'end_idx': 14...</td>\n",
       "      <td>100</td>\n",
       "      <td>wikitree</td>\n",
       "    </tr>\n",
       "    <tr>\n",
       "      <th>7763</th>\n",
       "      <td>7763</td>\n",
       "      <td>1987년 B. 슈나이더(B. Schneider)에 의해 만들어졌다.</td>\n",
       "      <td>{'word': 'B. 슈나이더', 'start_idx': 6, 'end_idx':...</td>\n",
       "      <td>{'word': '1987년', 'start_idx': 0, 'end_idx': 4...</td>\n",
       "      <td>100</td>\n",
       "      <td>wikipedia</td>\n",
       "    </tr>\n",
       "    <tr>\n",
       "      <th>7764</th>\n",
       "      <td>7764</td>\n",
       "      <td>이승옥 강진군수는 2일 NH농협은행 강진군지부(지부장 강대형)를 방문해 부품·소재·...</td>\n",
       "      <td>{'word': '이승옥', 'start_idx': 0, 'end_idx': 2, ...</td>\n",
       "      <td>{'word': '2일', 'start_idx': 10, 'end_idx': 11,...</td>\n",
       "      <td>100</td>\n",
       "      <td>wikitree</td>\n",
       "    </tr>\n",
       "  </tbody>\n",
       "</table>\n",
       "<p>7765 rows × 6 columns</p>\n",
       "</div>"
      ],
      "text/plain": [
       "        id                                           sentence  \\\n",
       "0        0               지난 15일 MBC '탐사기획 스트레이트'가 이 사실을 보도했다.   \n",
       "1        1  사랑스러운 ‘프린세스 프링’의 이름은 봄의 공주님: Princess(s)Pring이...   \n",
       "2        2  한편, 본인(이근안)을 모델로 한 MBC 특집드라마 가 1995년 6.25 특집극으...   \n",
       "3        3  정창손은 김질과 같이 대궐로 달려가 고변하며 '신은 실로 모르고 김질만 혼자 참여하...   \n",
       "4        4  당시 민주당 이진련 시의원은 권영진 시장에게 \"긴급 생계자금을 왜 현금으로 지원하지...   \n",
       "...    ...                                                ...   \n",
       "7760  7760  코로나19 방역 조치의 일환으로 국민의 움직임을 통제하려는 정부의 시도를 이탈리아 ...   \n",
       "7761  7761  선 연구원은 “위식도역류질환치료제인 케이캡이 92억원 판매되면서 2019년 연간 3...   \n",
       "7762  7762  한국전기안전공사(사장 조성완)는 8월 1일부로, 3급 간부직원에 대한 승진·이동 인...   \n",
       "7763  7763             1987년 B. 슈나이더(B. Schneider)에 의해 만들어졌다.   \n",
       "7764  7764  이승옥 강진군수는 2일 NH농협은행 강진군지부(지부장 강대형)를 방문해 부품·소재·...   \n",
       "\n",
       "                                         subject_entity  \\\n",
       "0     {'word': 'MBC', 'start_idx': 7, 'end_idx': 9, ...   \n",
       "1     {'word': '프린세스 프링', 'start_idx': 7, 'end_idx':...   \n",
       "2     {'word': '경찰', 'start_idx': 121, 'end_idx': 12...   \n",
       "3     {'word': '세조', 'start_idx': 78, 'end_idx': 79,...   \n",
       "4     {'word': '민주당', 'start_idx': 3, 'end_idx': 5, ...   \n",
       "...                                                 ...   \n",
       "7760  {'word': '정부', 'start_idx': 33, 'end_idx': 34,...   \n",
       "7761  {'word': '종근당', 'start_idx': 133, 'end_idx': 1...   \n",
       "7762  {'word': '한국전기안전공사', 'start_idx': 0, 'end_idx'...   \n",
       "7763  {'word': 'B. 슈나이더', 'start_idx': 6, 'end_idx':...   \n",
       "7764  {'word': '이승옥', 'start_idx': 0, 'end_idx': 2, ...   \n",
       "\n",
       "                                          object_entity  label     source  \n",
       "0     {'word': '탐사기획 스트레이트', 'start_idx': 12, 'end_i...    100   wikitree  \n",
       "1     {'word': '공주', 'start_idx': 84, 'end_idx': 85,...    100  wikipedia  \n",
       "2     {'word': '1995년', 'start_idx': 31, 'end_idx': ...    100  wikipedia  \n",
       "3     {'word': '정창손', 'start_idx': 0, 'end_idx': 2, ...    100  wikipedia  \n",
       "4     {'word': '권영진', 'start_idx': 16, 'end_idx': 18...    100   wikitree  \n",
       "...                                                 ...    ...        ...  \n",
       "7760  {'word': '이탈리아', 'start_idx': 41, 'end_idx': 4...    100   wikitree  \n",
       "7761  {'word': '전년', 'start_idx': 143, 'end_idx': 14...    100   wikitree  \n",
       "7762  {'word': '조성완', 'start_idx': 12, 'end_idx': 14...    100   wikitree  \n",
       "7763  {'word': '1987년', 'start_idx': 0, 'end_idx': 4...    100  wikipedia  \n",
       "7764  {'word': '2일', 'start_idx': 10, 'end_idx': 11,...    100   wikitree  \n",
       "\n",
       "[7765 rows x 6 columns]"
      ]
     },
     "execution_count": 4,
     "metadata": {},
     "output_type": "execute_result"
    }
   ],
   "source": [
    "pd_test_dataset = pd.read_csv('dataset/test/test_data.csv')\n",
    "pd_test_dataset"
   ]
  },
  {
   "cell_type": "code",
   "execution_count": null,
   "id": "79b667e4-b833-4e9b-bcfd-d0679fc55fac",
   "metadata": {},
   "outputs": [],
   "source": []
  }
 ],
 "metadata": {
  "kernelspec": {
   "display_name": "Python 3 (ipykernel)",
   "language": "python",
   "name": "python3"
  },
  "language_info": {
   "codemirror_mode": {
    "name": "ipython",
    "version": 3
   },
   "file_extension": ".py",
   "mimetype": "text/x-python",
   "name": "python",
   "nbconvert_exporter": "python",
   "pygments_lexer": "ipython3",
   "version": "3.8.5"
  }
 },
 "nbformat": 4,
 "nbformat_minor": 5
}
