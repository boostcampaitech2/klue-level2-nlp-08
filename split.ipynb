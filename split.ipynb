{
 "cells": [
  {
   "cell_type": "code",
   "execution_count": null,
   "source": [
    "from sklearn.model_selection import train_test_split\n",
    "import numpy as np\n",
    "import pickle\n",
    "import pandas as pd\n",
    "\n",
    "def label_to_num(label):\n",
    "    num_label = []\n",
    "    with open('baseline/dict_label_to_num.pkl', 'rb') as f:\n",
    "        dict_label_to_num = pickle.load(f)\n",
    "    for v in label:\n",
    "        num_label.append(dict_label_to_num[v])\n",
    "\n",
    "    return num_label\n",
    "\n",
    "pd_train_dataset = pd.read_csv('dataset/train/train.csv')\n",
    "train_label = label_to_num(pd_train_dataset['label'].values)\n",
    "\n",
    "train_idx, valid_idx = train_test_split(\n",
    "    np.arange(len(train_label)), test_size=0.2, random_state=42, shuffle=True, stratify=train_label)\n",
    "\n",
    "print(len(train_idx), len(valid_idx))\n",
    "t_split = pd.DataFrame(pd_train_dataset, index=train_idx)\n",
    "v_split = pd.DataFrame(pd_train_dataset, index=valid_idx)\n",
    "\n",
    "\n",
    "t_split.to_csv('split_train_20.csv')\n",
    "v_split.to_csv('split_valid_20.csv')"
   ],
   "outputs": [],
   "metadata": {}
  }
 ],
 "metadata": {
  "orig_nbformat": 4,
  "language_info": {
   "name": "python"
  }
 },
 "nbformat": 4,
 "nbformat_minor": 2
}