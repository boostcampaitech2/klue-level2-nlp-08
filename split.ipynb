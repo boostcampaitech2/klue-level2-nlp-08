{
 "cells": [
  {
   "cell_type": "code",
   "execution_count": null,
   "id": "35b1abc4-9423-473f-849a-f06abe43b936",
   "metadata": {},
   "outputs": [
    {
     "name": "stdout",
     "output_type": "stream",
     "text": [
      "25976 6494\n"
     ]
    }
   ],
   "source": [
    "from sklearn.model_selection import train_test_split\n",
    "import numpy as np\n",
    "import pickle\n",
    "import pandas as pd\n",
    "\n",
    "def label_to_num(label):\n",
    "    num_label = []\n",
    "    with open('baseline/dict_label_to_num.pkl', 'rb') as f:\n",
    "        dict_label_to_num = pickle.load(f)\n",
    "    for v in label:\n",
    "        num_label.append(dict_label_to_num[v])\n",
    "\n",
    "    return num_label\n",
    "\n",
    "pd_train_dataset = pd.read_csv('dataset/train/train.csv')\n",
    "train_label = label_to_num(pd_train_dataset['label'].values)\n",
    "\n",
    "train_idx, valid_idx = train_test_split(\n",
    "    np.arange(len(train_label)), test_size=0.2, random_state=42, shuffle=True, stratify=train_label)\n",
    "\n",
    "print(len(train_idx), len(valid_idx))\n",
    "t_split = pd.DataFrame(pd_train_dataset, index=train_idx)\n",
    "v_split = pd.DataFrame(pd_train_dataset, index=valid_idx)\n",
    "\n",
    "\n",
    "t_split.to_csv('split_train_20.csv')\n",
    "v_split.to_csv('split_valid_20.csv')"
   ]
  }
 ],
 "metadata": {
  "kernelspec": {
   "display_name": "Python 3 (ipykernel)",
   "language": "python",
   "name": "python3"
  },
  "language_info": {
   "codemirror_mode": {
    "name": "ipython",
    "version": 3
   },
   "file_extension": ".py",
   "mimetype": "text/x-python",
   "name": "python",
   "nbconvert_exporter": "python",
   "pygments_lexer": "ipython3",
   "version": "3.8.5"
  }
 },
 "nbformat": 4,
 "nbformat_minor": 5
}
