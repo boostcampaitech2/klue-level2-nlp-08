{
 "cells": [
  {
   "cell_type": "code",
   "execution_count": 7,
   "source": [
    "import pandas as pd\n",
    "import ast\n",
    "import re\n",
    "import pickle as pk"
   ],
   "outputs": [],
   "metadata": {}
  },
  {
   "cell_type": "code",
   "execution_count": 8,
   "source": [
    "e_map = {'PER' : '사람', 'ORG' : '단체', 'LOC' : '지명', 'POH' : '나머지', 'DAT' : '날짜', 'NOH' : '수량'}"
   ],
   "outputs": [],
   "metadata": {}
  },
  {
   "cell_type": "code",
   "execution_count": 9,
   "source": [
    "def convert(sen,sub,obj,e_map):\n",
    "    sub = ast.literal_eval(sub)\n",
    "    obj = ast.literal_eval(obj)\n",
    "    e1_str = '<e1>'\n",
    "    e1_end = '</e1>'\n",
    "    e2_str = '<e2>'\n",
    "    e2_end = '</e2>'\n",
    "\n",
    "    str_list = list(sen)\n",
    "\n",
    "    str_list[sub['start_idx']] = e1_str + ' <e3> ' +e_map[sub['type']] + ' <e3> ' +str_list[sub['start_idx']]\n",
    "    str_list[sub['end_idx']] = str_list[sub['end_idx']] + ' ' + e1_end + ' '\n",
    "\n",
    "    str_list[obj['start_idx']] = e2_str + ' <e3> ' +e_map[obj['type']] + ' <e3> ' + str_list[obj['start_idx']]\n",
    "    str_list[obj['end_idx']] = str_list[obj['end_idx']] + ' ' + e2_end + ' '\n",
    "    \n",
    "    pre_str = ''.join(str_list)\n",
    "\n",
    "    return pre_str"
   ],
   "outputs": [],
   "metadata": {}
  },
  {
   "cell_type": "code",
   "execution_count": 10,
   "source": [
    "TRAIN_PATH = '/opt/ml/dataset/train/cleaned_target_augmented.csv'\n",
    "TEST_PATH = '/opt/ml/dataset/test/test_data.csv'\n",
    "train_df = pd.read_csv(TRAIN_PATH)\n",
    "test_df = pd.read_csv(TEST_PATH)"
   ],
   "outputs": [],
   "metadata": {}
  },
  {
   "cell_type": "code",
   "execution_count": 11,
   "source": [
    "pre_train_df = train_df.apply(lambda x : convert(x.sentence, x.subject_entity, x.object_entity,e_map), axis= 1)\n",
    "pre_test_df = test_df.apply(lambda x : convert(x.sentence, x.subject_entity, x.object_entity,e_map), axis= 1)"
   ],
   "outputs": [],
   "metadata": {}
  },
  {
   "cell_type": "code",
   "execution_count": 12,
   "source": [
    "# pre_train_df = train_df['sentence']\n",
    "# pre_test_df = test_df['sentence']"
   ],
   "outputs": [],
   "metadata": {}
  },
  {
   "cell_type": "code",
   "execution_count": 13,
   "source": [
    "def del_spe_change_token(s):\n",
    "    rs = re.sub(r'[^a-zA-Z0-9가-힇ㄱ-ㅎㅏ-ㅣぁ-ゔァ-ヴー々〆〤一-龥,\".?!<>/ ]+', ' ' ,s)\n",
    "    \n",
    "    rs = rs.replace('<e1>','#')\n",
    "    rs = rs.replace('</e1>','#' )\n",
    "    rs = rs.replace('<e2>','@' )\n",
    "    rs = rs.replace('</e2>','@' )\n",
    "    rs = rs.replace('<e3>',' ' )\n",
    "    \n",
    "\n",
    "    rs = rs.replace('<','')\n",
    "    rs = rs.replace('>','')\n",
    "\n",
    "    return rs"
   ],
   "outputs": [],
   "metadata": {}
  },
  {
   "cell_type": "code",
   "execution_count": 14,
   "source": [
    "pre_train_df = pre_train_df.apply(del_spe_change_token)\n",
    "pre_test_df = pre_test_df.apply(del_spe_change_token)"
   ],
   "outputs": [],
   "metadata": {}
  },
  {
   "cell_type": "code",
   "execution_count": 15,
   "source": [
    "train_df['sentence'] = pre_train_df\n",
    "test_df['sentence'] = pre_test_df"
   ],
   "outputs": [],
   "metadata": {}
  },
  {
   "cell_type": "code",
   "execution_count": 16,
   "source": [
    "train_df = train_df[['id','sentence','subject_entity','object_entity','label','source']]\n"
   ],
   "outputs": [],
   "metadata": {}
  },
  {
   "cell_type": "code",
   "execution_count": 17,
   "source": [
    "train_df.head()"
   ],
   "outputs": [
    {
     "output_type": "execute_result",
     "data": {
      "text/html": [
       "<div>\n",
       "<style scoped>\n",
       "    .dataframe tbody tr th:only-of-type {\n",
       "        vertical-align: middle;\n",
       "    }\n",
       "\n",
       "    .dataframe tbody tr th {\n",
       "        vertical-align: top;\n",
       "    }\n",
       "\n",
       "    .dataframe thead th {\n",
       "        text-align: right;\n",
       "    }\n",
       "</style>\n",
       "<table border=\"1\" class=\"dataframe\">\n",
       "  <thead>\n",
       "    <tr style=\"text-align: right;\">\n",
       "      <th></th>\n",
       "      <th>id</th>\n",
       "      <th>sentence</th>\n",
       "      <th>subject_entity</th>\n",
       "      <th>object_entity</th>\n",
       "      <th>label</th>\n",
       "      <th>source</th>\n",
       "    </tr>\n",
       "  </thead>\n",
       "  <tbody>\n",
       "    <tr>\n",
       "      <th>0</th>\n",
       "      <td>0</td>\n",
       "      <td>Something 는 @ * 사람 * 조지 해리슨 @ 이 쓰고 # * 단체 * 비...</td>\n",
       "      <td>{'word': '비틀즈', 'start_idx': 24, 'end_idx': 26...</td>\n",
       "      <td>{'word': '조지 해리슨', 'start_idx': 13, 'end_idx':...</td>\n",
       "      <td>no_relation</td>\n",
       "      <td>wikipedia</td>\n",
       "    </tr>\n",
       "    <tr>\n",
       "      <th>1</th>\n",
       "      <td>1</td>\n",
       "      <td>호남이 기반인 바른미래당 @ * 단체 * 대안신당 @  # * 단체 * 민주평화당 ...</td>\n",
       "      <td>{'word': '민주평화당', 'start_idx': 19, 'end_idx': ...</td>\n",
       "      <td>{'word': '대안신당', 'start_idx': 14, 'end_idx': 1...</td>\n",
       "      <td>no_relation</td>\n",
       "      <td>wikitree</td>\n",
       "    </tr>\n",
       "    <tr>\n",
       "      <th>2</th>\n",
       "      <td>2</td>\n",
       "      <td>K리그2에서 성적 1위를 달리고 있는 # * 단체 * 광주FC # 는 지난 26일 ...</td>\n",
       "      <td>{'word': '광주FC', 'start_idx': 21, 'end_idx': 2...</td>\n",
       "      <td>{'word': '한국프로축구연맹', 'start_idx': 34, 'end_idx...</td>\n",
       "      <td>org:member_of</td>\n",
       "      <td>wikitree</td>\n",
       "    </tr>\n",
       "    <tr>\n",
       "      <th>3</th>\n",
       "      <td>3</td>\n",
       "      <td>균일가 생활용품점  주 # * 단체 * 아성다이소 #  대표 @ * 사람 * 박정부...</td>\n",
       "      <td>{'word': '아성다이소', 'start_idx': 13, 'end_idx': ...</td>\n",
       "      <td>{'word': '박정부', 'start_idx': 22, 'end_idx': 24...</td>\n",
       "      <td>org:top_members/employees</td>\n",
       "      <td>wikitree</td>\n",
       "    </tr>\n",
       "    <tr>\n",
       "      <th>4</th>\n",
       "      <td>4</td>\n",
       "      <td>@ * 날짜 * 1967 @ 년 프로 야구 드래프트 1순위로 # * 단체 * 요미우...</td>\n",
       "      <td>{'word': '요미우리 자이언츠', 'start_idx': 22, 'end_id...</td>\n",
       "      <td>{'word': '1967', 'start_idx': 0, 'end_idx': 3,...</td>\n",
       "      <td>no_relation</td>\n",
       "      <td>wikipedia</td>\n",
       "    </tr>\n",
       "  </tbody>\n",
       "</table>\n",
       "</div>"
      ],
      "text/plain": [
       "   id                                           sentence  \\\n",
       "0   0   Something 는 @ * 사람 * 조지 해리슨 @ 이 쓰고 # * 단체 * 비...   \n",
       "1   1  호남이 기반인 바른미래당 @ * 단체 * 대안신당 @  # * 단체 * 민주평화당 ...   \n",
       "2   2  K리그2에서 성적 1위를 달리고 있는 # * 단체 * 광주FC # 는 지난 26일 ...   \n",
       "3   3  균일가 생활용품점  주 # * 단체 * 아성다이소 #  대표 @ * 사람 * 박정부...   \n",
       "4   4  @ * 날짜 * 1967 @ 년 프로 야구 드래프트 1순위로 # * 단체 * 요미우...   \n",
       "\n",
       "                                      subject_entity  \\\n",
       "0  {'word': '비틀즈', 'start_idx': 24, 'end_idx': 26...   \n",
       "1  {'word': '민주평화당', 'start_idx': 19, 'end_idx': ...   \n",
       "2  {'word': '광주FC', 'start_idx': 21, 'end_idx': 2...   \n",
       "3  {'word': '아성다이소', 'start_idx': 13, 'end_idx': ...   \n",
       "4  {'word': '요미우리 자이언츠', 'start_idx': 22, 'end_id...   \n",
       "\n",
       "                                       object_entity  \\\n",
       "0  {'word': '조지 해리슨', 'start_idx': 13, 'end_idx':...   \n",
       "1  {'word': '대안신당', 'start_idx': 14, 'end_idx': 1...   \n",
       "2  {'word': '한국프로축구연맹', 'start_idx': 34, 'end_idx...   \n",
       "3  {'word': '박정부', 'start_idx': 22, 'end_idx': 24...   \n",
       "4  {'word': '1967', 'start_idx': 0, 'end_idx': 3,...   \n",
       "\n",
       "                       label     source  \n",
       "0                no_relation  wikipedia  \n",
       "1                no_relation   wikitree  \n",
       "2              org:member_of   wikitree  \n",
       "3  org:top_members/employees   wikitree  \n",
       "4                no_relation  wikipedia  "
      ]
     },
     "metadata": {},
     "execution_count": 17
    }
   ],
   "metadata": {}
  },
  {
   "cell_type": "code",
   "execution_count": 22,
   "source": [
    "train_df.to_csv('/opt/ml/dataset/train/preprocess_train.csv',index=False)\n",
    "test_df.to_csv('/opt/ml/dataset/test/preprocess_test.csv',index=False)"
   ],
   "outputs": [],
   "metadata": {}
  },
  {
   "cell_type": "code",
   "execution_count": 12,
   "source": [
    "def make_label1(s):\n",
    "    split_s = s.split(':')\n",
    "    return split_s[0]\n",
    "\n",
    "def make_label2(s):\n",
    "    split_s = s.split(':')\n",
    "    if len(split_s) == 1:\n",
    "        return\n",
    "    else:\n",
    "\n",
    "        return split_s[1]\n"
   ],
   "outputs": [],
   "metadata": {}
  },
  {
   "cell_type": "code",
   "execution_count": 13,
   "source": [
    "train_df['label1'] = train_df['label'].apply(make_label1)"
   ],
   "outputs": [],
   "metadata": {}
  },
  {
   "cell_type": "code",
   "execution_count": 14,
   "source": [
    "train_df['label2'] = train_df['label'].apply(make_label2)"
   ],
   "outputs": [],
   "metadata": {}
  },
  {
   "cell_type": "code",
   "execution_count": 15,
   "source": [
    "org_train = train_df[train_df['label1'] == 'org']\n",
    "per_train = train_df[train_df['label1'] == 'per']"
   ],
   "outputs": [],
   "metadata": {}
  },
  {
   "cell_type": "code",
   "execution_count": 39,
   "source": [
    "org_list = list(org_train['label2'].unique())\n",
    "\n",
    "org_label_to_num = {}\n",
    "org_num_to_label = {}\n",
    "for i, j in enumerate(org_list):\n",
    "    org_label_to_num[j] = i\n",
    "    org_num_to_label[i] = j"
   ],
   "outputs": [],
   "metadata": {}
  },
  {
   "cell_type": "code",
   "execution_count": 40,
   "source": [
    "per_list = list(per_train['label2'].unique())\n",
    "\n",
    "per_label_to_num = {}\n",
    "per_num_to_label = {}\n",
    "for i, j in enumerate(per_list):\n",
    "    per_label_to_num[j] = i\n",
    "    per_num_to_label[i] = j"
   ],
   "outputs": [],
   "metadata": {}
  },
  {
   "cell_type": "code",
   "execution_count": 41,
   "source": [
    "train_list = list(train_df['label1'].unique())\n",
    "\n",
    "rel_label_to_num = {}\n",
    "rel_num_to_label = {}\n",
    "for i, j in enumerate(train_list):\n",
    "    rel_label_to_num[j] = i\n",
    "    rel_num_to_label[i] = j"
   ],
   "outputs": [],
   "metadata": {}
  },
  {
   "cell_type": "code",
   "execution_count": 42,
   "source": [
    "with open(\"org_label_to_num.pkl\",\"wb\") as fw:\n",
    "    pk.dump(org_label_to_num, fw)\n",
    "\n",
    "with open(\"org_num_to_label.pkl\",\"wb\") as fw:\n",
    "    pk.dump(org_num_to_label, fw)\n",
    "\n",
    "with open(\"per_label_to_num.pkl\",\"wb\") as fw:\n",
    "    pk.dump(per_label_to_num, fw)\n",
    "\n",
    "with open(\"per_num_to_label.pkl\",\"wb\") as fw:\n",
    "    pk.dump(per_num_to_label, fw)\n",
    "\n",
    "with open(\"rel_label_to_num.pkl\",\"wb\") as fw:\n",
    "    pk.dump(rel_label_to_num, fw)\n",
    "\n",
    "with open(\"rel_num_to_label.pkl\",\"wb\") as fw:\n",
    "    pk.dump(rel_num_to_label, fw)"
   ],
   "outputs": [],
   "metadata": {}
  },
  {
   "cell_type": "code",
   "execution_count": 43,
   "source": [
    "org_train['label'] = org_train['label2']\n",
    "per_train['label'] = per_train['label2']"
   ],
   "outputs": [
    {
     "output_type": "stream",
     "name": "stderr",
     "text": [
      "<ipython-input-43-8936fb9b075b>:1: SettingWithCopyWarning: \n",
      "A value is trying to be set on a copy of a slice from a DataFrame.\n",
      "Try using .loc[row_indexer,col_indexer] = value instead\n",
      "\n",
      "See the caveats in the documentation: https://pandas.pydata.org/pandas-docs/stable/user_guide/indexing.html#returning-a-view-versus-a-copy\n",
      "  org_train['label'] = org_train['label2']\n",
      "<ipython-input-43-8936fb9b075b>:2: SettingWithCopyWarning: \n",
      "A value is trying to be set on a copy of a slice from a DataFrame.\n",
      "Try using .loc[row_indexer,col_indexer] = value instead\n",
      "\n",
      "See the caveats in the documentation: https://pandas.pydata.org/pandas-docs/stable/user_guide/indexing.html#returning-a-view-versus-a-copy\n",
      "  per_train['label'] = per_train['label2']\n"
     ]
    }
   ],
   "metadata": {}
  },
  {
   "cell_type": "code",
   "execution_count": 44,
   "source": [
    "train_df['label'] = train_df['label1']"
   ],
   "outputs": [],
   "metadata": {}
  },
  {
   "cell_type": "code",
   "execution_count": 45,
   "source": [
    "org_train = org_train[['id','sentence','subject_entity','object_entity','label','source']]\n",
    "per_train = per_train[['id','sentence','subject_entity','object_entity','label','source']]"
   ],
   "outputs": [],
   "metadata": {}
  },
  {
   "cell_type": "code",
   "execution_count": 46,
   "source": [
    "test_df.to_csv('/opt/ml/dataset/test/preprocess_test.csv',index=False)"
   ],
   "outputs": [],
   "metadata": {}
  },
  {
   "cell_type": "code",
   "execution_count": 47,
   "source": [
    "org_train.to_csv('/opt/ml/dataset/train/org_train.csv',index=False)\n",
    "per_train.to_csv('/opt/ml/dataset/train/per_train.csv',index=False)\n",
    "train_df.to_csv('/opt/ml/dataset/train/rel_train.csv',index=False)"
   ],
   "outputs": [],
   "metadata": {}
  },
  {
   "cell_type": "code",
   "execution_count": 48,
   "source": [
    "train_df['label'].value_counts()"
   ],
   "outputs": [
    {
     "output_type": "execute_result",
     "data": {
      "text/plain": [
       "per            12654\n",
       "org            10282\n",
       "no_relation     9534\n",
       "Name: label, dtype: int64"
      ]
     },
     "metadata": {},
     "execution_count": 48
    }
   ],
   "metadata": {}
  },
  {
   "cell_type": "code",
   "execution_count": 49,
   "source": [
    "len(org_train['label'].unique())\n",
    "print(len(per_train['label'].unique()))"
   ],
   "outputs": [
    {
     "output_type": "stream",
     "name": "stdout",
     "text": [
      "18\n"
     ]
    }
   ],
   "metadata": {}
  },
  {
   "cell_type": "code",
   "execution_count": 50,
   "source": [
    "per_train['label'].value_counts()"
   ],
   "outputs": [
    {
     "output_type": "execute_result",
     "data": {
      "text/plain": [
       "employee_of           3573\n",
       "title                 2103\n",
       "origin                1234\n",
       "date_of_birth         1130\n",
       "alternate_names       1001\n",
       "spouse                 795\n",
       "colleagues             534\n",
       "parents                520\n",
       "date_of_death          418\n",
       "children               304\n",
       "place_of_residence     193\n",
       "other_family           190\n",
       "place_of_birth         166\n",
       "product                139\n",
       "siblings               136\n",
       "religion                96\n",
       "schools_attended        82\n",
       "place_of_death          40\n",
       "Name: label, dtype: int64"
      ]
     },
     "metadata": {},
     "execution_count": 50
    }
   ],
   "metadata": {}
  },
  {
   "cell_type": "code",
   "execution_count": 51,
   "source": [
    "rel_label_to_num"
   ],
   "outputs": [
    {
     "output_type": "execute_result",
     "data": {
      "text/plain": [
       "{'no_relation': 0, 'org': 1, 'per': 2}"
      ]
     },
     "metadata": {},
     "execution_count": 51
    }
   ],
   "metadata": {}
  },
  {
   "cell_type": "code",
   "execution_count": 52,
   "source": [
    "rel_label_to_num"
   ],
   "outputs": [
    {
     "output_type": "execute_result",
     "data": {
      "text/plain": [
       "{'no_relation': 0, 'org': 1, 'per': 2}"
      ]
     },
     "metadata": {},
     "execution_count": 52
    }
   ],
   "metadata": {}
  },
  {
   "cell_type": "code",
   "execution_count": 53,
   "source": [
    "per_label_to_num"
   ],
   "outputs": [
    {
     "output_type": "execute_result",
     "data": {
      "text/plain": [
       "{'date_of_birth': 0,\n",
       " 'employee_of': 1,\n",
       " 'origin': 2,\n",
       " 'title': 3,\n",
       " 'schools_attended': 4,\n",
       " 'colleagues': 5,\n",
       " 'alternate_names': 6,\n",
       " 'spouse': 7,\n",
       " 'children': 8,\n",
       " 'place_of_birth': 9,\n",
       " 'parents': 10,\n",
       " 'religion': 11,\n",
       " 'date_of_death': 12,\n",
       " 'place_of_residence': 13,\n",
       " 'other_family': 14,\n",
       " 'siblings': 15,\n",
       " 'product': 16,\n",
       " 'place_of_death': 17}"
      ]
     },
     "metadata": {},
     "execution_count": 53
    }
   ],
   "metadata": {}
  },
  {
   "cell_type": "code",
   "execution_count": 54,
   "source": [
    "org_label_to_num"
   ],
   "outputs": [
    {
     "output_type": "execute_result",
     "data": {
      "text/plain": [
       "{'member_of': 0,\n",
       " 'top_members/employees': 1,\n",
       " 'alternate_names': 2,\n",
       " 'place_of_headquarters': 3,\n",
       " 'members': 4,\n",
       " 'founded_by': 5,\n",
       " 'political/religious_affiliation': 6,\n",
       " 'founded': 7,\n",
       " 'number_of_employees/members': 8,\n",
       " 'dissolved': 9,\n",
       " 'product': 10}"
      ]
     },
     "metadata": {},
     "execution_count": 54
    }
   ],
   "metadata": {}
  },
  {
   "cell_type": "code",
   "execution_count": 55,
   "source": [
    "org_train['sentence']"
   ],
   "outputs": [
    {
     "output_type": "execute_result",
     "data": {
      "text/plain": [
       "2        K리그2에서 성적 1위를 달리고 있는 #  * 단체 * 광주FC # 는 지난 26일...\n",
       "3        균일가 생활용품점  주 #  * 단체 * 아성다이소 #  대표 @ * 사람 * 박정...\n",
       "5          유엔, 유럽 의회, #  * 단체 * 북대서양 조약 기구 #   @ * 단체 *...\n",
       "8        중공군에게 온전  대항할 수 없을 정도로 약해진 국민당은 @ * 지명 * 타이베이 ...\n",
       "12       2009년 9월, 미국 프로 야구 #  * 단체 * 필라델피아 필리스 #  소속의 ...\n",
       "                               ...                        \n",
       "32453    1952년 8월에 실시된 제2대 대통령 선거 후 집권당인 #  * 단체 * 자유당 ...\n",
       "32455    김홍균 연구원은  일회성 손익으로 영업단에 신규 수주호선 및 공사손실충당금 118억...\n",
       "32458    대학 졸업 직후, 그는  #  * 단체 * 스티어 프라이데이 나이트 #  @ * 나...\n",
       "32467    #  * 단체 * 완도군 #  군수 @ * 사람 * 신우철 @  이 국토교통부에서 ...\n",
       "32469    #  * 단체 * 화순군 #  군수 @ * 사람 * 구충곤 @  은 17일 동면의 ...\n",
       "Name: sentence, Length: 10282, dtype: object"
      ]
     },
     "metadata": {},
     "execution_count": 55
    }
   ],
   "metadata": {}
  },
  {
   "cell_type": "code",
   "execution_count": 56,
   "source": [
    "test_df"
   ],
   "outputs": [
    {
     "output_type": "execute_result",
     "data": {
      "text/html": [
       "<div>\n",
       "<style scoped>\n",
       "    .dataframe tbody tr th:only-of-type {\n",
       "        vertical-align: middle;\n",
       "    }\n",
       "\n",
       "    .dataframe tbody tr th {\n",
       "        vertical-align: top;\n",
       "    }\n",
       "\n",
       "    .dataframe thead th {\n",
       "        text-align: right;\n",
       "    }\n",
       "</style>\n",
       "<table border=\"1\" class=\"dataframe\">\n",
       "  <thead>\n",
       "    <tr style=\"text-align: right;\">\n",
       "      <th></th>\n",
       "      <th>id</th>\n",
       "      <th>sentence</th>\n",
       "      <th>subject_entity</th>\n",
       "      <th>object_entity</th>\n",
       "      <th>label</th>\n",
       "      <th>source</th>\n",
       "    </tr>\n",
       "  </thead>\n",
       "  <tbody>\n",
       "    <tr>\n",
       "      <th>0</th>\n",
       "      <td>0</td>\n",
       "      <td>지난 15일 #  * 단체 * MBC #   @ * 단체 * 탐사기획 스트레이트 @...</td>\n",
       "      <td>{'word': 'MBC', 'start_idx': 7, 'end_idx': 9, ...</td>\n",
       "      <td>{'word': '탐사기획 스트레이트', 'start_idx': 12, 'end_i...</td>\n",
       "      <td>100</td>\n",
       "      <td>wikitree</td>\n",
       "    </tr>\n",
       "    <tr>\n",
       "      <th>1</th>\n",
       "      <td>1</td>\n",
       "      <td>사랑스러운  #  * 사람 * 프린세스 프링 #  의 이름은 봄의 공주님  Prin...</td>\n",
       "      <td>{'word': '프린세스 프링', 'start_idx': 7, 'end_idx':...</td>\n",
       "      <td>{'word': '공주', 'start_idx': 84, 'end_idx': 85,...</td>\n",
       "      <td>100</td>\n",
       "      <td>wikipedia</td>\n",
       "    </tr>\n",
       "    <tr>\n",
       "      <th>2</th>\n",
       "      <td>2</td>\n",
       "      <td>한편, 본인 이근안 을 모델로 한 MBC 특집드라마 가 @ * 날짜 * 1995년 ...</td>\n",
       "      <td>{'word': '경찰', 'start_idx': 121, 'end_idx': 12...</td>\n",
       "      <td>{'word': '1995년', 'start_idx': 31, 'end_idx': ...</td>\n",
       "      <td>100</td>\n",
       "      <td>wikipedia</td>\n",
       "    </tr>\n",
       "    <tr>\n",
       "      <th>3</th>\n",
       "      <td>3</td>\n",
       "      <td>@ * 사람 * 정창손 @ 은 김질과 같이 대궐로 달려가 고변하며  신은 실로 모르...</td>\n",
       "      <td>{'word': '세조', 'start_idx': 78, 'end_idx': 79,...</td>\n",
       "      <td>{'word': '정창손', 'start_idx': 0, 'end_idx': 2, ...</td>\n",
       "      <td>100</td>\n",
       "      <td>wikipedia</td>\n",
       "    </tr>\n",
       "    <tr>\n",
       "      <th>4</th>\n",
       "      <td>4</td>\n",
       "      <td>당시 #  * 단체 * 민주당 #  이진련 시의원은 @ * 사람 * 권영진 @  시...</td>\n",
       "      <td>{'word': '민주당', 'start_idx': 3, 'end_idx': 5, ...</td>\n",
       "      <td>{'word': '권영진', 'start_idx': 16, 'end_idx': 18...</td>\n",
       "      <td>100</td>\n",
       "      <td>wikitree</td>\n",
       "    </tr>\n",
       "    <tr>\n",
       "      <th>...</th>\n",
       "      <td>...</td>\n",
       "      <td>...</td>\n",
       "      <td>...</td>\n",
       "      <td>...</td>\n",
       "      <td>...</td>\n",
       "      <td>...</td>\n",
       "    </tr>\n",
       "    <tr>\n",
       "      <th>7760</th>\n",
       "      <td>7760</td>\n",
       "      <td>코로나19 방역 조치의 일환으로 국민의 움직임을 통제하려는 #  * 단체 * 정부 ...</td>\n",
       "      <td>{'word': '정부', 'start_idx': 33, 'end_idx': 34,...</td>\n",
       "      <td>{'word': '이탈리아', 'start_idx': 41, 'end_idx': 4...</td>\n",
       "      <td>100</td>\n",
       "      <td>wikitree</td>\n",
       "    </tr>\n",
       "    <tr>\n",
       "      <th>7761</th>\n",
       "      <td>7761</td>\n",
       "      <td>선 연구원은  위식도역류질환치료제인 케이캡이 92억원 판매되면서 2019년 연간 3...</td>\n",
       "      <td>{'word': '종근당', 'start_idx': 133, 'end_idx': 1...</td>\n",
       "      <td>{'word': '전년', 'start_idx': 143, 'end_idx': 14...</td>\n",
       "      <td>100</td>\n",
       "      <td>wikitree</td>\n",
       "    </tr>\n",
       "    <tr>\n",
       "      <th>7762</th>\n",
       "      <td>7762</td>\n",
       "      <td>#  * 단체 * 한국전기안전공사 #  사장 @ * 사람 * 조성완 @  는 8월 ...</td>\n",
       "      <td>{'word': '한국전기안전공사', 'start_idx': 0, 'end_idx'...</td>\n",
       "      <td>{'word': '조성완', 'start_idx': 12, 'end_idx': 14...</td>\n",
       "      <td>100</td>\n",
       "      <td>wikitree</td>\n",
       "    </tr>\n",
       "    <tr>\n",
       "      <th>7763</th>\n",
       "      <td>7763</td>\n",
       "      <td>@ * 날짜 * 1987년 @  #  * 사람 * B. 슈나이더 #  B. Schn...</td>\n",
       "      <td>{'word': 'B. 슈나이더', 'start_idx': 6, 'end_idx':...</td>\n",
       "      <td>{'word': '1987년', 'start_idx': 0, 'end_idx': 4...</td>\n",
       "      <td>100</td>\n",
       "      <td>wikipedia</td>\n",
       "    </tr>\n",
       "    <tr>\n",
       "      <th>7764</th>\n",
       "      <td>7764</td>\n",
       "      <td>#  * 사람 * 이승옥 #  강진군수는 @ * 날짜 * 2일 @  NH농협은행 강...</td>\n",
       "      <td>{'word': '이승옥', 'start_idx': 0, 'end_idx': 2, ...</td>\n",
       "      <td>{'word': '2일', 'start_idx': 10, 'end_idx': 11,...</td>\n",
       "      <td>100</td>\n",
       "      <td>wikitree</td>\n",
       "    </tr>\n",
       "  </tbody>\n",
       "</table>\n",
       "<p>7765 rows × 6 columns</p>\n",
       "</div>"
      ],
      "text/plain": [
       "        id                                           sentence  \\\n",
       "0        0  지난 15일 #  * 단체 * MBC #   @ * 단체 * 탐사기획 스트레이트 @...   \n",
       "1        1  사랑스러운  #  * 사람 * 프린세스 프링 #  의 이름은 봄의 공주님  Prin...   \n",
       "2        2  한편, 본인 이근안 을 모델로 한 MBC 특집드라마 가 @ * 날짜 * 1995년 ...   \n",
       "3        3  @ * 사람 * 정창손 @ 은 김질과 같이 대궐로 달려가 고변하며  신은 실로 모르...   \n",
       "4        4  당시 #  * 단체 * 민주당 #  이진련 시의원은 @ * 사람 * 권영진 @  시...   \n",
       "...    ...                                                ...   \n",
       "7760  7760  코로나19 방역 조치의 일환으로 국민의 움직임을 통제하려는 #  * 단체 * 정부 ...   \n",
       "7761  7761  선 연구원은  위식도역류질환치료제인 케이캡이 92억원 판매되면서 2019년 연간 3...   \n",
       "7762  7762  #  * 단체 * 한국전기안전공사 #  사장 @ * 사람 * 조성완 @  는 8월 ...   \n",
       "7763  7763  @ * 날짜 * 1987년 @  #  * 사람 * B. 슈나이더 #  B. Schn...   \n",
       "7764  7764  #  * 사람 * 이승옥 #  강진군수는 @ * 날짜 * 2일 @  NH농협은행 강...   \n",
       "\n",
       "                                         subject_entity  \\\n",
       "0     {'word': 'MBC', 'start_idx': 7, 'end_idx': 9, ...   \n",
       "1     {'word': '프린세스 프링', 'start_idx': 7, 'end_idx':...   \n",
       "2     {'word': '경찰', 'start_idx': 121, 'end_idx': 12...   \n",
       "3     {'word': '세조', 'start_idx': 78, 'end_idx': 79,...   \n",
       "4     {'word': '민주당', 'start_idx': 3, 'end_idx': 5, ...   \n",
       "...                                                 ...   \n",
       "7760  {'word': '정부', 'start_idx': 33, 'end_idx': 34,...   \n",
       "7761  {'word': '종근당', 'start_idx': 133, 'end_idx': 1...   \n",
       "7762  {'word': '한국전기안전공사', 'start_idx': 0, 'end_idx'...   \n",
       "7763  {'word': 'B. 슈나이더', 'start_idx': 6, 'end_idx':...   \n",
       "7764  {'word': '이승옥', 'start_idx': 0, 'end_idx': 2, ...   \n",
       "\n",
       "                                          object_entity  label     source  \n",
       "0     {'word': '탐사기획 스트레이트', 'start_idx': 12, 'end_i...    100   wikitree  \n",
       "1     {'word': '공주', 'start_idx': 84, 'end_idx': 85,...    100  wikipedia  \n",
       "2     {'word': '1995년', 'start_idx': 31, 'end_idx': ...    100  wikipedia  \n",
       "3     {'word': '정창손', 'start_idx': 0, 'end_idx': 2, ...    100  wikipedia  \n",
       "4     {'word': '권영진', 'start_idx': 16, 'end_idx': 18...    100   wikitree  \n",
       "...                                                 ...    ...        ...  \n",
       "7760  {'word': '이탈리아', 'start_idx': 41, 'end_idx': 4...    100   wikitree  \n",
       "7761  {'word': '전년', 'start_idx': 143, 'end_idx': 14...    100   wikitree  \n",
       "7762  {'word': '조성완', 'start_idx': 12, 'end_idx': 14...    100   wikitree  \n",
       "7763  {'word': '1987년', 'start_idx': 0, 'end_idx': 4...    100  wikipedia  \n",
       "7764  {'word': '2일', 'start_idx': 10, 'end_idx': 11,...    100   wikitree  \n",
       "\n",
       "[7765 rows x 6 columns]"
      ]
     },
     "metadata": {},
     "execution_count": 56
    }
   ],
   "metadata": {}
  },
  {
   "cell_type": "code",
   "execution_count": null,
   "source": [],
   "outputs": [],
   "metadata": {}
  }
 ],
 "metadata": {
  "orig_nbformat": 4,
  "language_info": {
   "name": "python",
   "version": "3.8.5",
   "mimetype": "text/x-python",
   "codemirror_mode": {
    "name": "ipython",
    "version": 3
   },
   "pygments_lexer": "ipython3",
   "nbconvert_exporter": "python",
   "file_extension": ".py"
  },
  "kernelspec": {
   "name": "python3",
   "display_name": "Python 3.8.5 64-bit ('base': conda)"
  },
  "interpreter": {
   "hash": "98b0a9b7b4eaaa670588a142fd0a9b87eaafe866f1db4228be72b4211d12040f"
  }
 },
 "nbformat": 4,
 "nbformat_minor": 2
}