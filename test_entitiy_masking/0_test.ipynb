{
 "cells": [
  {
   "cell_type": "code",
   "execution_count": 1,
   "source": [
    "from transformers import AutoConfig, AutoTokenizer, DataCollatorWithPadding, Trainer, TrainingArguments, EarlyStoppingCallback\n",
    "from datasets.load import load_metric\n",
    "\n",
    "from tqdm import tqdm\n",
    "import wandb\n",
    "\n",
    "from utils import RelationExtractionDataset, DataHelper, ConfigParser\n",
    "from metric import compute_metrics\n",
    "import os\n",
    "import random\n",
    "import numpy as np\n",
    "import pandas as pd"
   ],
   "outputs": [],
   "metadata": {}
  },
  {
   "cell_type": "code",
   "execution_count": 2,
   "source": [
    "train_data = pd.read_csv('/opt/ml/dataset/train/train.csv')\n",
    "aug_data = pd.read_csv('/opt/ml/dataset/train/aug_all.csv')"
   ],
   "outputs": [],
   "metadata": {}
  },
  {
   "cell_type": "code",
   "execution_count": 3,
   "source": [
    "len(train_data)"
   ],
   "outputs": [
    {
     "output_type": "execute_result",
     "data": {
      "text/plain": [
       "32470"
      ]
     },
     "metadata": {},
     "execution_count": 3
    }
   ],
   "metadata": {}
  },
  {
   "cell_type": "code",
   "execution_count": 4,
   "source": [
    "print(len(aug_data))"
   ],
   "outputs": [
    {
     "output_type": "stream",
     "name": "stdout",
     "text": [
      "19211\n"
     ]
    }
   ],
   "metadata": {}
  },
  {
   "cell_type": "code",
   "execution_count": 5,
   "source": [
    "a = pd.concat([train_data,aug_data])"
   ],
   "outputs": [],
   "metadata": {}
  },
  {
   "cell_type": "code",
   "execution_count": 6,
   "source": [
    "a"
   ],
   "outputs": [
    {
     "output_type": "execute_result",
     "data": {
      "text/html": [
       "<div>\n",
       "<style scoped>\n",
       "    .dataframe tbody tr th:only-of-type {\n",
       "        vertical-align: middle;\n",
       "    }\n",
       "\n",
       "    .dataframe tbody tr th {\n",
       "        vertical-align: top;\n",
       "    }\n",
       "\n",
       "    .dataframe thead th {\n",
       "        text-align: right;\n",
       "    }\n",
       "</style>\n",
       "<table border=\"1\" class=\"dataframe\">\n",
       "  <thead>\n",
       "    <tr style=\"text-align: right;\">\n",
       "      <th></th>\n",
       "      <th>id</th>\n",
       "      <th>sentence</th>\n",
       "      <th>subject_entity</th>\n",
       "      <th>object_entity</th>\n",
       "      <th>label</th>\n",
       "      <th>source</th>\n",
       "    </tr>\n",
       "  </thead>\n",
       "  <tbody>\n",
       "    <tr>\n",
       "      <th>0</th>\n",
       "      <td>0</td>\n",
       "      <td>〈Something〉는 조지 해리슨이 쓰고 비틀즈가 1969년 앨범 《Abbey R...</td>\n",
       "      <td>{'word': '비틀즈', 'start_idx': 24, 'end_idx': 26...</td>\n",
       "      <td>{'word': '조지 해리슨', 'start_idx': 13, 'end_idx':...</td>\n",
       "      <td>no_relation</td>\n",
       "      <td>wikipedia</td>\n",
       "    </tr>\n",
       "    <tr>\n",
       "      <th>1</th>\n",
       "      <td>1</td>\n",
       "      <td>호남이 기반인 바른미래당·대안신당·민주평화당이 우여곡절 끝에 합당해 민생당(가칭)으...</td>\n",
       "      <td>{'word': '민주평화당', 'start_idx': 19, 'end_idx': ...</td>\n",
       "      <td>{'word': '대안신당', 'start_idx': 14, 'end_idx': 1...</td>\n",
       "      <td>no_relation</td>\n",
       "      <td>wikitree</td>\n",
       "    </tr>\n",
       "    <tr>\n",
       "      <th>2</th>\n",
       "      <td>2</td>\n",
       "      <td>K리그2에서 성적 1위를 달리고 있는 광주FC는 지난 26일 한국프로축구연맹으로부터...</td>\n",
       "      <td>{'word': '광주FC', 'start_idx': 21, 'end_idx': 2...</td>\n",
       "      <td>{'word': '한국프로축구연맹', 'start_idx': 34, 'end_idx...</td>\n",
       "      <td>org:member_of</td>\n",
       "      <td>wikitree</td>\n",
       "    </tr>\n",
       "    <tr>\n",
       "      <th>3</th>\n",
       "      <td>3</td>\n",
       "      <td>균일가 생활용품점 (주)아성다이소(대표 박정부)는 코로나19 바이러스로 어려움을 겪...</td>\n",
       "      <td>{'word': '아성다이소', 'start_idx': 13, 'end_idx': ...</td>\n",
       "      <td>{'word': '박정부', 'start_idx': 22, 'end_idx': 24...</td>\n",
       "      <td>org:top_members/employees</td>\n",
       "      <td>wikitree</td>\n",
       "    </tr>\n",
       "    <tr>\n",
       "      <th>4</th>\n",
       "      <td>4</td>\n",
       "      <td>1967년 프로 야구 드래프트 1순위로 요미우리 자이언츠에게 입단하면서 등번호는 8...</td>\n",
       "      <td>{'word': '요미우리 자이언츠', 'start_idx': 22, 'end_id...</td>\n",
       "      <td>{'word': '1967', 'start_idx': 0, 'end_idx': 3,...</td>\n",
       "      <td>no_relation</td>\n",
       "      <td>wikipedia</td>\n",
       "    </tr>\n",
       "    <tr>\n",
       "      <th>...</th>\n",
       "      <td>...</td>\n",
       "      <td>...</td>\n",
       "      <td>...</td>\n",
       "      <td>...</td>\n",
       "      <td>...</td>\n",
       "      <td>...</td>\n",
       "    </tr>\n",
       "    <tr>\n",
       "      <th>19206</th>\n",
       "      <td>12176</td>\n",
       "      <td>배우 송윤아와 결혼한 뒤 같은 소속사에 몸담았던 설경구는 2013년 8월 씨제스엔터...</td>\n",
       "      <td>{'word': '송윤아', 'start_idx': 3, 'end_idx': 5, ...</td>\n",
       "      <td>{'word': '설경구', 'start_idx': 27, 'end_idx': 29...</td>\n",
       "      <td>per:spouse</td>\n",
       "      <td>wikipedia</td>\n",
       "    </tr>\n",
       "    <tr>\n",
       "      <th>19207</th>\n",
       "      <td>6075</td>\n",
       "      <td>박근혜 대통령은 조선일보가 주최하는 제5회 아시아 콘퍼런스에 2014년 3월 3일 ...</td>\n",
       "      <td>{'word': '조선일보', 'start_idx': 9, 'end_idx': 12...</td>\n",
       "      <td>{'word': '방상훈', 'start_idx': 52, 'end_idx': 54...</td>\n",
       "      <td>org:top_members/employees</td>\n",
       "      <td>wikipedia</td>\n",
       "    </tr>\n",
       "    <tr>\n",
       "      <th>19208</th>\n",
       "      <td>2021</td>\n",
       "      <td>로마 신화에서 넵투누스는 바다의 신으로 그리스 신화의 포세이돈에 대응하는 신이다.</td>\n",
       "      <td>{'word': '넵투누스', 'start_idx': 8, 'end_idx': 11...</td>\n",
       "      <td>{'word': '포세이돈', 'start_idx': 30, 'end_idx': 3...</td>\n",
       "      <td>no_relation</td>\n",
       "      <td>wikipedia</td>\n",
       "    </tr>\n",
       "    <tr>\n",
       "      <th>19209</th>\n",
       "      <td>22300</td>\n",
       "      <td>원창왕후(元昌王后, 생몰년 미상)는 고려의 추존왕후로 추존왕인 의조(작제건)의 처이...</td>\n",
       "      <td>{'word': '작제건', 'start_idx': 38, 'end_idx': 40...</td>\n",
       "      <td>{'word': '원창왕후', 'start_idx': 0, 'end_idx': 3,...</td>\n",
       "      <td>per:spouse</td>\n",
       "      <td>wikipedia</td>\n",
       "    </tr>\n",
       "    <tr>\n",
       "      <th>19210</th>\n",
       "      <td>26353</td>\n",
       "      <td>비슷한 시기인 1948년 9월 9일, 북한은 조선민주주의인민공화국 정부 수립을 선언했다.</td>\n",
       "      <td>{'word': '조선민주주의인민공화국 정부', 'start_idx': 25, 'e...</td>\n",
       "      <td>{'word': '1948년 9월 9일', 'start_idx': 8, 'end_i...</td>\n",
       "      <td>org:founded</td>\n",
       "      <td>wikipedia</td>\n",
       "    </tr>\n",
       "  </tbody>\n",
       "</table>\n",
       "<p>51681 rows × 6 columns</p>\n",
       "</div>"
      ],
      "text/plain": [
       "          id                                           sentence  \\\n",
       "0          0  〈Something〉는 조지 해리슨이 쓰고 비틀즈가 1969년 앨범 《Abbey R...   \n",
       "1          1  호남이 기반인 바른미래당·대안신당·민주평화당이 우여곡절 끝에 합당해 민생당(가칭)으...   \n",
       "2          2  K리그2에서 성적 1위를 달리고 있는 광주FC는 지난 26일 한국프로축구연맹으로부터...   \n",
       "3          3  균일가 생활용품점 (주)아성다이소(대표 박정부)는 코로나19 바이러스로 어려움을 겪...   \n",
       "4          4  1967년 프로 야구 드래프트 1순위로 요미우리 자이언츠에게 입단하면서 등번호는 8...   \n",
       "...      ...                                                ...   \n",
       "19206  12176  배우 송윤아와 결혼한 뒤 같은 소속사에 몸담았던 설경구는 2013년 8월 씨제스엔터...   \n",
       "19207   6075  박근혜 대통령은 조선일보가 주최하는 제5회 아시아 콘퍼런스에 2014년 3월 3일 ...   \n",
       "19208   2021      로마 신화에서 넵투누스는 바다의 신으로 그리스 신화의 포세이돈에 대응하는 신이다.   \n",
       "19209  22300  원창왕후(元昌王后, 생몰년 미상)는 고려의 추존왕후로 추존왕인 의조(작제건)의 처이...   \n",
       "19210  26353  비슷한 시기인 1948년 9월 9일, 북한은 조선민주주의인민공화국 정부 수립을 선언했다.   \n",
       "\n",
       "                                          subject_entity  \\\n",
       "0      {'word': '비틀즈', 'start_idx': 24, 'end_idx': 26...   \n",
       "1      {'word': '민주평화당', 'start_idx': 19, 'end_idx': ...   \n",
       "2      {'word': '광주FC', 'start_idx': 21, 'end_idx': 2...   \n",
       "3      {'word': '아성다이소', 'start_idx': 13, 'end_idx': ...   \n",
       "4      {'word': '요미우리 자이언츠', 'start_idx': 22, 'end_id...   \n",
       "...                                                  ...   \n",
       "19206  {'word': '송윤아', 'start_idx': 3, 'end_idx': 5, ...   \n",
       "19207  {'word': '조선일보', 'start_idx': 9, 'end_idx': 12...   \n",
       "19208  {'word': '넵투누스', 'start_idx': 8, 'end_idx': 11...   \n",
       "19209  {'word': '작제건', 'start_idx': 38, 'end_idx': 40...   \n",
       "19210  {'word': '조선민주주의인민공화국 정부', 'start_idx': 25, 'e...   \n",
       "\n",
       "                                           object_entity  \\\n",
       "0      {'word': '조지 해리슨', 'start_idx': 13, 'end_idx':...   \n",
       "1      {'word': '대안신당', 'start_idx': 14, 'end_idx': 1...   \n",
       "2      {'word': '한국프로축구연맹', 'start_idx': 34, 'end_idx...   \n",
       "3      {'word': '박정부', 'start_idx': 22, 'end_idx': 24...   \n",
       "4      {'word': '1967', 'start_idx': 0, 'end_idx': 3,...   \n",
       "...                                                  ...   \n",
       "19206  {'word': '설경구', 'start_idx': 27, 'end_idx': 29...   \n",
       "19207  {'word': '방상훈', 'start_idx': 52, 'end_idx': 54...   \n",
       "19208  {'word': '포세이돈', 'start_idx': 30, 'end_idx': 3...   \n",
       "19209  {'word': '원창왕후', 'start_idx': 0, 'end_idx': 3,...   \n",
       "19210  {'word': '1948년 9월 9일', 'start_idx': 8, 'end_i...   \n",
       "\n",
       "                           label     source  \n",
       "0                    no_relation  wikipedia  \n",
       "1                    no_relation   wikitree  \n",
       "2                  org:member_of   wikitree  \n",
       "3      org:top_members/employees   wikitree  \n",
       "4                    no_relation  wikipedia  \n",
       "...                          ...        ...  \n",
       "19206                 per:spouse  wikipedia  \n",
       "19207  org:top_members/employees  wikipedia  \n",
       "19208                no_relation  wikipedia  \n",
       "19209                 per:spouse  wikipedia  \n",
       "19210                org:founded  wikipedia  \n",
       "\n",
       "[51681 rows x 6 columns]"
      ]
     },
     "metadata": {},
     "execution_count": 6
    }
   ],
   "metadata": {}
  },
  {
   "cell_type": "code",
   "execution_count": 4,
   "source": [
    "tokenizer = AutoTokenizer.from_pretrained('klue/roberta-large')"
   ],
   "outputs": [],
   "metadata": {}
  },
  {
   "cell_type": "code",
   "execution_count": 5,
   "source": [
    "td = helper.row_entity_tokenize(train_data,entity_data,tokenizer)"
   ],
   "outputs": [],
   "metadata": {}
  },
  {
   "cell_type": "code",
   "execution_count": 12,
   "source": [
    "data = RelationExtractionDataset(\n",
    "            td, labels=train_data['label'])"
   ],
   "outputs": [],
   "metadata": {}
  },
  {
   "cell_type": "code",
   "execution_count": 21,
   "source": [
    "tokenizer.decode(td['input_ids'][0])"
   ],
   "outputs": [
    {
     "output_type": "execute_result",
     "data": {
      "text/plain": [
       "'[CLS] 〈 Something 〉 는 조지 해리슨이 쓰고 비틀즈가 1969년 앨범 《 Abbey Road 》 에 담은 노래다. [SEP] [PAD] [PAD] [PAD] [PAD] [PAD] [PAD] [PAD] [PAD] [PAD] [PAD] [PAD] [PAD] [PAD] [PAD] [PAD] [PAD] [PAD] [PAD] [PAD] [PAD] [PAD] [PAD] [PAD] [PAD] [PAD] [PAD] [PAD] [PAD] [PAD] [PAD] [PAD] [PAD] [PAD] [PAD] [PAD] [PAD] [PAD] [PAD] [PAD] [PAD] [PAD] [PAD] [PAD] [PAD] [PAD] [PAD] [PAD] [PAD] [PAD] [PAD] [PAD] [PAD] [PAD] [PAD] [PAD] [PAD] [PAD] [PAD] [PAD] [PAD] [PAD] [PAD] [PAD] [PAD] [PAD] [PAD] [PAD] [PAD] [PAD] [PAD] [PAD] [PAD] [PAD] [PAD] [PAD] [PAD] [PAD] [PAD] [PAD] [PAD] [PAD] [PAD] [PAD] [PAD] [PAD] [PAD] [PAD] [PAD] [PAD] [PAD] [PAD] [PAD] [PAD] [PAD] [PAD] [PAD] [PAD] [PAD] [PAD] [PAD] [PAD] [PAD] [PAD] [PAD] [PAD] [PAD] [PAD] [PAD] [PAD] [PAD] [PAD] [PAD] [PAD] [PAD] [PAD] [PAD] [PAD] [PAD] [PAD] [PAD] [PAD] [PAD] [PAD] [PAD] [PAD] [PAD] [PAD] [PAD] [PAD] [PAD] [PAD] [PAD] [PAD] [PAD] [PAD] [PAD] [PAD] [PAD] [PAD] [PAD] [PAD] [PAD] [PAD] [PAD] [PAD] [PAD] [PAD] [PAD] [PAD] [PAD] [PAD] [PAD] [PAD] [PAD] [PAD] [PAD] [PAD] [PAD] [PAD] [PAD] [PAD] [PAD] [PAD] [PAD] [PAD] [PAD] [PAD] [PAD] [PAD] [PAD] [PAD] [PAD] [PAD] [PAD] [PAD] [PAD] [PAD] [PAD] [PAD] [PAD] [PAD] [PAD] [PAD] [PAD] [PAD] [PAD] [PAD] [PAD] [PAD] [PAD] [PAD] [PAD] [PAD] [PAD] [PAD] [PAD] [PAD] [PAD]'"
      ]
     },
     "metadata": {},
     "execution_count": 21
    }
   ],
   "metadata": {}
  },
  {
   "cell_type": "code",
   "execution_count": 26,
   "source": [
    "from transformers import AutoTokenizer, AutoModelForMaskedLM,pipeline\n"
   ],
   "outputs": [],
   "metadata": {}
  },
  {
   "cell_type": "code",
   "execution_count": 27,
   "source": [
    "tokenizer = AutoTokenizer.from_pretrained(\"klue/roberta-large\")\n",
    "model = AutoModelForMaskedLM.from_pretrained(\"klue/roberta-large\")"
   ],
   "outputs": [],
   "metadata": {}
  },
  {
   "cell_type": "code",
   "execution_count": 28,
   "source": [
    "nlp_fill = pipeline('fill-mask', top_k=5, model=model, tokenizer=tokenizer)"
   ],
   "outputs": [],
   "metadata": {}
  },
  {
   "cell_type": "code",
   "execution_count": null,
   "source": [
    "[MASK]"
   ],
   "outputs": [],
   "metadata": {}
  },
  {
   "cell_type": "code",
   "execution_count": 36,
   "source": [
    "nlp_fill('김종식 목포시장을 비롯한 목포시청 직원 150여명은 2020학년도 대학수학능력시험이 치러진 14일 아침 [MASK]를 비롯한 7개 시험장을 찾아 수험생을 응원하고 학부모를 격려했다.')"
   ],
   "outputs": [
    {
     "output_type": "execute_result",
     "data": {
      "text/plain": [
       "[{'sequence': '김종식 목포시장을 비롯한 목포시청 직원 150여명은 2020학년도 대학수학능력시험이 치러진 14일 아침 목포 를 비롯한 7개 시험장을 찾아 수험생을 응원하고 학부모를 격려했다.',\n",
       "  'score': 0.25800952315330505,\n",
       "  'token': 9312,\n",
       "  'token_str': '목포'},\n",
       " {'sequence': '김종식 목포시장을 비롯한 목포시청 직원 150여명은 2020학년도 대학수학능력시험이 치러진 14일 아침, 를 비롯한 7개 시험장을 찾아 수험생을 응원하고 학부모를 격려했다.',\n",
       "  'score': 0.07216645777225494,\n",
       "  'token': 16,\n",
       "  'token_str': ','},\n",
       " {'sequence': '김종식 목포시장을 비롯한 목포시청 직원 150여명은 2020학년도 대학수학능력시험이 치러진 14일 아침 목포시 를 비롯한 7개 시험장을 찾아 수험생을 응원하고 학부모를 격려했다.',\n",
       "  'score': 0.05739225819706917,\n",
       "  'token': 31441,\n",
       "  'token_str': '목포시'},\n",
       " {'sequence': '김종식 목포시장을 비롯한 목포시청 직원 150여명은 2020학년도 대학수학능력시험이 치러진 14일 아침 광주 를 비롯한 7개 시험장을 찾아 수험생을 응원하고 학부모를 격려했다.',\n",
       "  'score': 0.03156328946352005,\n",
       "  'token': 4104,\n",
       "  'token_str': '광주'},\n",
       " {'sequence': '김종식 목포시장을 비롯한 목포시청 직원 150여명은 2020학년도 대학수학능력시험이 치러진 14일 아침 관내 를 비롯한 7개 시험장을 찾아 수험생을 응원하고 학부모를 격려했다.',\n",
       "  'score': 0.026638081297278404,\n",
       "  'token': 11668,\n",
       "  'token_str': '관내'}]"
      ]
     },
     "metadata": {},
     "execution_count": 36
    }
   ],
   "metadata": {}
  }
 ],
 "metadata": {
  "orig_nbformat": 4,
  "language_info": {
   "name": "python",
   "version": "3.8.5",
   "mimetype": "text/x-python",
   "codemirror_mode": {
    "name": "ipython",
    "version": 3
   },
   "pygments_lexer": "ipython3",
   "nbconvert_exporter": "python",
   "file_extension": ".py"
  },
  "kernelspec": {
   "name": "python3",
   "display_name": "Python 3.8.5 64-bit ('base': conda)"
  },
  "interpreter": {
   "hash": "98b0a9b7b4eaaa670588a142fd0a9b87eaafe866f1db4228be72b4211d12040f"
  }
 },
 "nbformat": 4,
 "nbformat_minor": 2
}