{
 "cells": [
  {
   "cell_type": "code",
   "execution_count": 30,
   "id": "bf242f87-4f5a-4497-b1d2-dd32128359c6",
   "metadata": {},
   "outputs": [],
   "source": [
    "import pandas as pd"
   ]
  },
  {
   "cell_type": "code",
   "execution_count": 31,
   "id": "42078f17-e7cb-4d18-9692-0d4e772b943b",
   "metadata": {},
   "outputs": [],
   "source": [
    "train = pd.read_csv('count_wrong_kfold.csv', index_col='id')"
   ]
  },
  {
   "cell_type": "markdown",
   "id": "137e71ad-1647-491e-a792-6c946c9d55fe",
   "metadata": {},
   "source": [
    "# Change Mislabelled Data"
   ]
  },
  {
   "cell_type": "code",
   "execution_count": 32,
   "id": "9758840f-b161-4d83-a2e9-96c8c6f6f9d9",
   "metadata": {},
   "outputs": [
    {
     "name": "stdout",
     "output_type": "stream",
     "text": [
      "30\n"
     ]
    }
   ],
   "source": [
    "label_count = len(train['label'].unique())\n",
    "print(label_count)"
   ]
  },
  {
   "cell_type": "code",
   "execution_count": 33,
   "id": "e4c8d63f-7aac-426b-8c86-911381d2f117",
   "metadata": {},
   "outputs": [],
   "source": [
    "no_r = train['label'].unique()[0]"
   ]
  },
  {
   "cell_type": "code",
   "execution_count": 34,
   "id": "ff821244-b73b-4da3-b3c6-f2ac2480dbf6",
   "metadata": {},
   "outputs": [],
   "source": [
    "train.loc[4313,'object_entity'] =  train.iloc[4313]['object_entity'].replace('LOC', 'POH')"
   ]
  },
  {
   "cell_type": "code",
   "execution_count": 35,
   "id": "c345a5f9-0f65-4a2e-bae0-1b4f7a95bef6",
   "metadata": {},
   "outputs": [],
   "source": [
    "train.loc[4858, 'label'] = no_r"
   ]
  },
  {
   "cell_type": "code",
   "execution_count": 36,
   "id": "fa01c41b-642b-421f-84c5-5ef4e0a185d3",
   "metadata": {},
   "outputs": [],
   "source": [
    "train.loc[4966, 'subject_entity'] =  train.iloc[4966]['subject_entity'].replace('PER', 'ORG')"
   ]
  },
  {
   "cell_type": "markdown",
   "id": "7ad4d264-9461-4461-8cd0-187152431fed",
   "metadata": {},
   "source": [
    "# Drop Mislabelled Data\n",
    "- These sentences have different labels despite the same conditions"
   ]
  },
  {
   "cell_type": "code",
   "execution_count": 38,
   "id": "6d869d03-18a1-480b-afb9-2ffead1b3daf",
   "metadata": {},
   "outputs": [],
   "source": [
    "train = train.drop([3296,4212,22258,32299])"
   ]
  },
  {
   "cell_type": "markdown",
   "id": "973540e8-386b-422f-9f23-052ee93f9d24",
   "metadata": {},
   "source": [
    "# Drop duplicates"
   ]
  },
  {
   "cell_type": "code",
   "execution_count": 39,
   "id": "da853a28-a1e6-40b4-98ac-3d2f68042a30",
   "metadata": {},
   "outputs": [],
   "source": [
    "x_du_train = train.drop_duplicates()"
   ]
  },
  {
   "cell_type": "code",
   "execution_count": 40,
   "id": "fb567e14-3e8a-459c-ac4d-91a89417e8d6",
   "metadata": {},
   "outputs": [
    {
     "name": "stdout",
     "output_type": "stream",
     "text": [
      "deleted duplicates: 0.00129366106080207\n"
     ]
    }
   ],
   "source": [
    "print('deleted duplicates:', (len(train) - len(x_du_train))/len(train))"
   ]
  },
  {
   "cell_type": "code",
   "execution_count": 41,
   "id": "4f0b27f9-e1e4-46d1-ae49-3b32e033f688",
   "metadata": {},
   "outputs": [],
   "source": [
    "x_du_train.to_csv('prinstine_data.csv')"
   ]
  }
 ],
 "metadata": {
  "kernelspec": {
   "display_name": "Python 3 (ipykernel)",
   "language": "python",
   "name": "python3"
  },
  "language_info": {
   "codemirror_mode": {
    "name": "ipython",
    "version": 3
   },
   "file_extension": ".py",
   "mimetype": "text/x-python",
   "name": "python",
   "nbconvert_exporter": "python",
   "pygments_lexer": "ipython3",
   "version": "3.8.5"
  }
 },
 "nbformat": 4,
 "nbformat_minor": 5
}
