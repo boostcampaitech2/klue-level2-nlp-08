{
 "cells": [
  {
   "cell_type": "code",
   "execution_count": 9,
   "source": [
    "import pandas as pd\n",
    "\n",
    "import numpy as np\n",
    "from utils import DataHelper"
   ],
   "outputs": [],
   "metadata": {}
  },
  {
   "cell_type": "code",
   "execution_count": 10,
   "source": [
    "to_ensemble = [\n",
    "    pd.read_csv('prediction/LDAM_roberta-large_original_4epoch/5_folds_submission.csv'),\n",
    "    pd.read_csv('prediction/LDAM_roberta-large_original_4epoch_loss/5_folds_submission.csv'),\n",
    "    pd.read_csv('prediction/LDAM_roberta-large_original_4epoch_auprc/5_folds_submission.csv'),\n",
    "]\n",
    "ids = to_ensemble[0]['id']\n",
    "probs = np.array([list(map(eval, pred['probs'].tolist())) for pred in to_ensemble]).mean(axis=0)\n",
    "labels = probs.argmax(axis=1)"
   ],
   "outputs": [],
   "metadata": {}
  },
  {
   "cell_type": "code",
   "execution_count": 11,
   "source": [
    "preds = DataHelper.convert_labels_by_dict(\n",
    "    self=None,\n",
    "    labels=labels,\n",
    "    dictionary='data/dict_num_to_label.pkl'\n",
    ")\n",
    "ensembled = pd.DataFrame({\n",
    "    'id': ids,\n",
    "    'pred_label': preds,\n",
    "    'probs': probs.tolist()\n",
    "})\n",
    "ensembled.to_csv('prediction/ensemble.csv', index=False)"
   ],
   "outputs": [],
   "metadata": {}
  }
 ],
 "metadata": {
  "orig_nbformat": 4,
  "language_info": {
   "name": "python",
   "version": "3.9.7",
   "mimetype": "text/x-python",
   "codemirror_mode": {
    "name": "ipython",
    "version": 3
   },
   "pygments_lexer": "ipython3",
   "nbconvert_exporter": "python",
   "file_extension": ".py"
  },
  "kernelspec": {
   "name": "python3",
   "display_name": "Python 3.9.7 64-bit ('klue_python39': conda)"
  },
  "interpreter": {
   "hash": "c6312d486fdd61f9659c207280db3f3c16ae6e88ada6069c40a20bed3682809c"
  }
 },
 "nbformat": 4,
 "nbformat_minor": 2
}