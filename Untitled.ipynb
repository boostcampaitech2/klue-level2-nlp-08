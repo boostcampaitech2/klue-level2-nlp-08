{
 "cells": [
  {
   "cell_type": "code",
   "execution_count": 30,
   "id": "51847050-c217-42e5-9985-d253c27a693b",
   "metadata": {},
   "outputs": [],
   "source": [
    "import pandas as pd\n",
    "from collections import Counter\n",
    "import matplotlib.pyplot as plt\n",
    "import numpy as np"
   ]
  },
  {
   "cell_type": "code",
   "execution_count": 6,
   "id": "36d57dda-e801-48e0-833e-b36f49d8ea40",
   "metadata": {},
   "outputs": [],
   "source": [
    "df = pd.read_csv('../dataset/train/train.csv')"
   ]
  },
  {
   "cell_type": "code",
   "execution_count": 8,
   "id": "9298719b-bafc-4a80-a0c3-ef6a7167b609",
   "metadata": {},
   "outputs": [],
   "source": [
    "sentence_len = []\n",
    "for sentence in df['sentence']:\n",
    "    sentence_len.append(len(sentence))"
   ]
  },
  {
   "cell_type": "code",
   "execution_count": 10,
   "id": "70fe7caf-f320-4aef-9db1-56269b80171f",
   "metadata": {},
   "outputs": [
    {
     "name": "stdout",
     "output_type": "stream",
     "text": [
      "최장 문장: 455\n",
      "최단 문장: 14\n"
     ]
    }
   ],
   "source": [
    "print('최장 문장:', max(sentence_len))\n",
    "print('최단 문장:', min(sentence_len))"
   ]
  },
  {
   "cell_type": "code",
   "execution_count": 16,
   "id": "e0fb190f-78c9-45d7-8cee-f00c919d6809",
   "metadata": {},
   "outputs": [],
   "source": [
    "sentence_len.sort()\n",
    "cnt = sorted(Counter(sentence_len).items())"
   ]
  },
  {
   "cell_type": "code",
   "execution_count": 20,
   "id": "1c239fd4-7894-4153-84ab-cdcb61a8e482",
   "metadata": {},
   "outputs": [],
   "source": [
    "x = [i[0] for i in cnt]\n",
    "y = [i[1] for i in cnt]"
   ]
  },
  {
   "cell_type": "code",
   "execution_count": 42,
   "id": "211a40f7-ef63-4175-8c35-bafd112d8287",
   "metadata": {},
   "outputs": [
    {
     "data": {
      "image/png": "[encoded data removed]",
      "text/plain": [
       "<Figure size 1080x504 with 1 Axes>"
      ]
     },
     "metadata": {
      "needs_background": "light"
     },
     "output_type": "display_data"
    }
   ],
   "source": [
    "plt.figure(figsize = (15, 7))\n",
    "plt.hist(sentence_len, bins=500)\n",
    "plt.show()"
   ]
  },
  {
   "cell_type": "code",
   "execution_count": 31,
   "id": "46abdd6f-9e2f-4f6e-8b21-ff4f774705ea",
   "metadata": {},
   "outputs": [
    {
     "name": "stdout",
     "output_type": "stream",
     "text": [
      "문장 최대 길이 : 455\n",
      "문장 최소 길이 : 14\n",
      "문장 평균 길이 : 199.56\n",
      "문장 길이 표준편차 : 110.24\n",
      "문장 중간 길이 : 196.0\n"
     ]
    }
   ],
   "source": [
    "print('문장 최대 길이 : {}'.format(np.max(x)))\n",
    "print('문장 최소 길이 : {}'.format(np.min(x)))\n",
    "print('문장 평균 길이 : {:.2f}'.format(np.mean(x)))\n",
    "print('문장 길이 표준편차 : {:.2f}'.format(np.std(x)))\n",
    "print('문장 중간 길이 : {}'.format(np.median(x)))"
   ]
  }
 ],
 "metadata": {
  "kernelspec": {
   "display_name": "Python 3 (ipykernel)",
   "language": "python",
   "name": "python3"
  },
  "language_info": {
   "codemirror_mode": {
    "name": "ipython",
    "version": 3
   },
   "file_extension": ".py",
   "mimetype": "text/x-python",
   "name": "python",
   "nbconvert_exporter": "python",
   "pygments_lexer": "ipython3",
   "version": "3.8.5"
  }
 },
 "nbformat": 4,
 "nbformat_minor": 5
}
