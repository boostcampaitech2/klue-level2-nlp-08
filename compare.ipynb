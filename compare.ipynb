{
 "cells": [
  {
   "cell_type": "code",
   "execution_count": null,
   "source": [
    "import pandas as pd\n",
    "import matplotlib.pyplot as plt\n",
    "import seaborn as sns"
   ],
   "outputs": [],
   "metadata": {}
  },
  {
   "cell_type": "code",
   "execution_count": null,
   "source": [
    "# sota = pd.read_csv('prediction/sota.csv')\n",
    "sota = pd.read_csv('prediction/sota_focal_5_folds_submission_sota_focal.csv')\n",
    "to_compare = [\n",
    "    # pd.read_csv('prediction/0_fold_submission.csv'),\n",
    "    # pd.read_csv('prediction/1_fold_submission.csv'),\n",
    "    # pd.read_csv('prediction/2_fold_submission.csv'),\n",
    "    # pd.read_csv('prediction/3_fold_submission.csv'),\n",
    "    # pd.read_csv('prediction/4_fold_submission.csv'),\n",
    "    # pd.read_csv('prediction/5_folds_submission.csv'),\n",
    "    pd.read_csv('c_t/tt.csv'),\n",
    "    pd.read_csv('c_t/5_folds_submission_b.csv'),\n",
    "]\n",
    "\n",
    "froms = []\n",
    "for n, labels in enumerate(to_compare):\n",
    "    froms += [f'comp_{n}'] * len(labels)"
   ],
   "outputs": [],
   "metadata": {}
  },
  {
   "cell_type": "code",
   "execution_count": null,
   "source": [
    "concated = pd.concat(to_compare, ignore_index=True)\n",
    "\n",
    "df = pd.DataFrame({\n",
    "    'pred_label': pd.concat([sota['pred_label']] + list(map(lambda x: x['pred_label'], to_compare)), ignore_index=True),\n",
    "    'from': ['sota'] * len(sota['pred_label']) + froms\n",
    "})\n",
    "\n",
    "fig, ax = plt.subplots(1, 1, figsize=(20, 10))\n",
    "plot = sns.countplot(x='pred_label', data=df, hue='from', ax=ax)\n",
    "plt.xticks(rotation=45)"
   ],
   "outputs": [],
   "metadata": {}
  },
  {
   "cell_type": "code",
   "execution_count": null,
   "source": [
    "concated = pd.concat(to_compare, ignore_index=True)\n",
    "except_no_relation = df.loc[df['pred_label'] != 'no_relation', :]\n",
    "\n",
    "fig, ax = plt.subplots(1, 1, figsize=(20, 10))\n",
    "plot = sns.countplot(x='pred_label', data=except_no_relation, hue='from', ax=ax)\n",
    "plt.xticks(rotation=90)"
   ],
   "outputs": [],
   "metadata": {}
  },
  {
   "cell_type": "code",
   "execution_count": null,
   "source": [
    "concated = pd.concat(to_compare, ignore_index=True)\n",
    "# no_relation = df.loc[df['pred_label'] == 'per:place_of_death', :]\n",
    "no_relation = df.loc[df['pred_label'] == 'no_relation', :]\n",
    "\n",
    "fig, ax = plt.subplots(1, 1, figsize=(5, 5))\n",
    "plot = sns.countplot(x='pred_label', data=no_relation, hue='from', ax=ax)\n",
    "plt.xticks(rotation=90)"
   ],
   "outputs": [],
   "metadata": {}
  },
  {
   "cell_type": "code",
   "execution_count": null,
   "source": [],
   "outputs": [],
   "metadata": {}
  }
 ],
 "metadata": {
  "orig_nbformat": 4,
  "language_info": {
   "name": "python",
   "version": "3.8.5",
   "mimetype": "text/x-python",
   "codemirror_mode": {
    "name": "ipython",
    "version": 3
   },
   "pygments_lexer": "ipython3",
   "nbconvert_exporter": "python",
   "file_extension": ".py"
  },
  "kernelspec": {
   "name": "python3",
   "display_name": "Python 3.8.5 64-bit ('base': conda)"
  },
  "interpreter": {
   "hash": "98b0a9b7b4eaaa670588a142fd0a9b87eaafe866f1db4228be72b4211d12040f"
  }
 },
 "nbformat": 4,
 "nbformat_minor": 2
}